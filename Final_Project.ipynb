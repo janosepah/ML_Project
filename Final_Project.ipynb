{
  "nbformat": 4,
  "nbformat_minor": 0,
  "metadata": {
    "colab": {
      "name": "Final Project.ipynb",
      "provenance": [],
      "collapsed_sections": [],
      "include_colab_link": true
    },
    "kernelspec": {
      "name": "python3",
      "display_name": "Python 3"
    }
  },
  "cells": [
    {
      "cell_type": "markdown",
      "metadata": {
        "id": "view-in-github",
        "colab_type": "text"
      },
      "source": [
        "<a href=\"https://colab.research.google.com/github/janosepah/ML_Project/blob/master/Final_Project.ipynb\" target=\"_parent\"><img src=\"https://colab.research.google.com/assets/colab-badge.svg\" alt=\"Open In Colab\"/></a>"
      ]
    },
    {
      "cell_type": "markdown",
      "metadata": {
        "id": "esMNcSBFObXI",
        "colab_type": "text"
      },
      "source": [
        "#Predicting Electricity Supply and Demand\n",
        "Team Members (alphabetical order):\n",
        "-\tSamarah Azimpoor\n",
        "-\tSafoura Janosepah\n"
      ]
    },
    {
      "cell_type": "markdown",
      "metadata": {
        "id": "1g-NbjLROyI8",
        "colab_type": "text"
      },
      "source": [
        "# Power Data Source - IESO\n",
        "\n",
        "## Market Demand\n",
        "### Market Demand Definitions and Graphs\n",
        "The graph below plots values for both Total Market Demand and Ontario Demand.\n",
        "\n",
        "- **Total Market Demand** represents the total energy that was supplied from the IESO-Administered Market.\n",
        "\n",
        "The IESO calculates Total Market Demand by summing all output from generators registered in the Market plus all scheduled imports to the province. It is also equal to the sum of all load supplied from the Market plus exports from the province, plus all line losses incurred on the IESO-controlled grid.\n",
        "\n",
        "- **Ontario Demand** represents the total energy that was supplied from the IESO-Administered Market for the purpose of supplying load within Ontario.\n",
        "\n",
        "It is also equal to the sum of all loads within Ontario which is supplied from the Market, plus all line losses incurred on the IESO-controlled grid.\n"
      ]
    },
    {
      "cell_type": "markdown",
      "metadata": {
        "id": "3jdLz0E5BQHl",
        "colab_type": "text"
      },
      "source": [
        "##**Table of Content**\n",
        "\n",
        "1.   Importing Liblaries\n",
        "2.   Loading the Data\n",
        "3.   Data Pre-Processing\n",
        "4.   Feature Engineering\n",
        "5.   Data Visualisation\n",
        "6.   Designing Models\n",
        " \n",
        " 6.1.   XGBoost\n",
        "       * Train & Test Split\n",
        "       * Creating XGBoost model\n",
        "       * Prediction\n",
        "       * EvaluationList item\n",
        " \n",
        " 6.2.  RNN\n",
        "       * Train & Test Split\n",
        "       * Creating RNN model\n",
        "       * Prediction\n",
        "       * EvaluationList item\n",
        " \n",
        " 6.3.   LSTM\n",
        "       * Train & Test Split\n",
        "       * Creating LSTM model\n",
        "       * Prediction\n",
        "       * EvaluationList item\n",
        "\n",
        "7.    Evaluating Final Models\n",
        "\n"
      ]
    },
    {
      "cell_type": "markdown",
      "metadata": {
        "id": "rmfYEdh4NOpp",
        "colab_type": "text"
      },
      "source": [
        "##1. **Importing Liblaries**"
      ]
    },
    {
      "cell_type": "code",
      "metadata": {
        "id": "vBJ3KP66OiDI",
        "colab_type": "code",
        "colab": {
          "base_uri": "https://localhost:8080/",
          "height": 74
        },
        "outputId": "baf60864-b0a7-468a-969b-dcffeedee193"
      },
      "source": [
        "import pandas as pd\n",
        "import numpy as np\n",
        "from datetime import datetime\n",
        "import matplotlib.pyplot as plt\n",
        "import seaborn as sns\n",
        "import os\n",
        "import calendar\n"
      ],
      "execution_count": 2,
      "outputs": [
        {
          "output_type": "stream",
          "text": [
            "/usr/local/lib/python3.6/dist-packages/statsmodels/tools/_testing.py:19: FutureWarning: pandas.util.testing is deprecated. Use the functions in the public API at pandas.testing instead.\n",
            "  import pandas.util.testing as tm\n"
          ],
          "name": "stderr"
        }
      ]
    },
    {
      "cell_type": "code",
      "metadata": {
        "id": "BiMJpQHe8ijG",
        "colab_type": "code",
        "colab": {}
      },
      "source": [
        "# Set default plot styles\n",
        "plt.style.use('seaborn')\n",
        "plt.rcParams['figure.figsize'] = (16, 6)\n",
        "plt.rcParams['axes.titlesize'] = 20\n",
        "plt.rcParams['xtick.labelsize'] = 14\n",
        "plt.rcParams['ytick.labelsize'] = 14\n",
        "plt.rcParams['axes.labelsize'] = 14"
      ],
      "execution_count": 3,
      "outputs": []
    },
    {
      "cell_type": "markdown",
      "metadata": {
        "id": "cBBhYQ_RNr6s",
        "colab_type": "text"
      },
      "source": [
        "##2. **Loading The Data**"
      ]
    },
    {
      "cell_type": "code",
      "metadata": {
        "id": "I4enbMzn0JW9",
        "colab_type": "code",
        "colab": {
          "base_uri": "https://localhost:8080/",
          "height": 206
        },
        "outputId": "04654391-6dfe-4051-e481-ed23717e1949"
      },
      "source": [
        "# Load Data \n",
        "Data_Path = 'https://raw.githubusercontent.com/janosepah/ML_Project/master/Data/'\n",
        "\n",
        "# Demand\n",
        "Demand_2017 = pd.read_csv(Data_Path + 'PUB_Demand_2017.csv', parse_dates=['Date'])\n",
        "Demand_2017.head()\n",
        "#Demand_2017.shape\n",
        "\n",
        "Demand_2018 = pd.read_csv(Data_Path + 'PUB_Demand_2018.csv', parse_dates=['Date'])\n",
        "Demand_2018.head()\n",
        "#Demand_2018.shape\n",
        "\n",
        "Demand_2019 = pd.read_csv(Data_Path + 'PUB_Demand_2019.csv', parse_dates=['Date'])\n",
        "Demand_2019.head()\n",
        "#Demand_2019.shape\n",
        "\n",
        "# Supply\n",
        "Supply_2017 = pd.read_csv(Data_Path + '2017_Hourly_Output.csv', parse_dates=['Date'])\n",
        "Supply_2017.head()\n",
        "#Supply_2017.shape\n",
        "\n",
        "Supply_2018 = pd.read_csv(Data_Path + '2018_Hourly_Output.csv', parse_dates=['Date'])\n",
        "Supply_2018.head()\n",
        "#Supply_2018.shape\n",
        "\n",
        "Supply_2019 = pd.read_csv(Data_Path + '2019_Hourly_Output.csv', parse_dates=['Date'])\n",
        "Supply_2019.head()\n",
        "#Supply_2019.shape\n",
        "\n",
        "# Industry\n",
        "Industrial_2019 =pd.read_csv(Data_Path + 'Industrial_Load_2019.csv', parse_dates=['DeliveryDate'])\n",
        "Industrial_2019.head()\n",
        "\n",
        "Industrial_2018 =pd.read_csv(Data_Path + 'Industrial_Load_2018.csv', parse_dates=['DeliveryDate'])\n",
        "Industrial_2018.head()\n",
        "\n",
        "Industrial_2017 =pd.read_csv(Data_Path + 'Industrial_Load_2017.csv', parse_dates=['DeliveryDate'])\n",
        "Industrial_2017.head()\n",
        "\n",
        "# DemandZonal\n",
        "DemandZonal_2017 =pd.read_csv(Data_Path + 'PUB_DemandZonal_2017.csv', parse_dates=['Date'])\n",
        "DemandZonal_2017.head()\n",
        "\n",
        "DemandZonal_2018 =pd.read_csv(Data_Path + 'PUB_DemandZonal_2018.csv', parse_dates=['Date'])\n",
        "DemandZonal_2018.head()\n",
        "\n",
        "DemandZonal_2019 =pd.read_csv(Data_Path + 'PUB_DemandZonal_2019.csv', parse_dates=['Date'])\n",
        "DemandZonal_2019.head()\n",
        "\n",
        "# FuelMonthly\n",
        "FuelMonthly_2017 =pd.read_csv(Data_Path + 'PUB_GenOutputbyFuelMonthly_2017.csv')\n",
        "FuelMonthly_2017.head()\n",
        "\n",
        "FuelMonthly_2018 =pd.read_csv(Data_Path + 'PUB_GenOutputbyFuelMonthly_2018.csv')\n",
        "FuelMonthly_2018.head()\n",
        "\n",
        "FuelMonthly_2019 =pd.read_csv(Data_Path + 'PUB_GenOutputbyFuelMonthly_2019.csv')\n",
        "FuelMonthly_2019.head()\n"
      ],
      "execution_count": 4,
      "outputs": [
        {
          "output_type": "execute_result",
          "data": {
            "text/html": [
              "<div>\n",
              "<style scoped>\n",
              "    .dataframe tbody tr th:only-of-type {\n",
              "        vertical-align: middle;\n",
              "    }\n",
              "\n",
              "    .dataframe tbody tr th {\n",
              "        vertical-align: top;\n",
              "    }\n",
              "\n",
              "    .dataframe thead th {\n",
              "        text-align: right;\n",
              "    }\n",
              "</style>\n",
              "<table border=\"1\" class=\"dataframe\">\n",
              "  <thead>\n",
              "    <tr style=\"text-align: right;\">\n",
              "      <th></th>\n",
              "      <th>DeliveryYear</th>\n",
              "      <th>Month</th>\n",
              "      <th>Fuel</th>\n",
              "      <th>EnergyGW</th>\n",
              "    </tr>\n",
              "  </thead>\n",
              "  <tbody>\n",
              "    <tr>\n",
              "      <th>0</th>\n",
              "      <td>2019</td>\n",
              "      <td>January</td>\n",
              "      <td>NUCLEAR</td>\n",
              "      <td>8057.99</td>\n",
              "    </tr>\n",
              "    <tr>\n",
              "      <th>1</th>\n",
              "      <td>2019</td>\n",
              "      <td>January</td>\n",
              "      <td>GAS</td>\n",
              "      <td>941.07</td>\n",
              "    </tr>\n",
              "    <tr>\n",
              "      <th>2</th>\n",
              "      <td>2019</td>\n",
              "      <td>January</td>\n",
              "      <td>HYDRO</td>\n",
              "      <td>3422.35</td>\n",
              "    </tr>\n",
              "    <tr>\n",
              "      <th>3</th>\n",
              "      <td>2019</td>\n",
              "      <td>January</td>\n",
              "      <td>WIND</td>\n",
              "      <td>1435.37</td>\n",
              "    </tr>\n",
              "    <tr>\n",
              "      <th>4</th>\n",
              "      <td>2019</td>\n",
              "      <td>January</td>\n",
              "      <td>SOLAR</td>\n",
              "      <td>24.86</td>\n",
              "    </tr>\n",
              "  </tbody>\n",
              "</table>\n",
              "</div>"
            ],
            "text/plain": [
              "   DeliveryYear    Month     Fuel  EnergyGW\n",
              "0          2019  January  NUCLEAR   8057.99\n",
              "1          2019  January      GAS    941.07\n",
              "2          2019  January    HYDRO   3422.35\n",
              "3          2019  January     WIND   1435.37\n",
              "4          2019  January    SOLAR     24.86"
            ]
          },
          "metadata": {
            "tags": []
          },
          "execution_count": 4
        }
      ]
    },
    {
      "cell_type": "markdown",
      "metadata": {
        "id": "5T4oU6O0TCMR",
        "colab_type": "text"
      },
      "source": [
        "## 3. Data Pre-Processing"
      ]
    },
    {
      "cell_type": "markdown",
      "metadata": {
        "id": "sEH1GBEHHnD2",
        "colab_type": "text"
      },
      "source": [
        "Merging Data"
      ]
    },
    {
      "cell_type": "code",
      "metadata": {
        "id": "pagtbueETBa8",
        "colab_type": "code",
        "colab": {}
      },
      "source": [
        "# Demand\n",
        "AllDemand= Demand_2017.append(Demand_2018)\n",
        "AllDemand= AllDemand.append(Demand_2019)\n",
        "#AllDemand.shape\n",
        "\n",
        "# Supply\n",
        "AllSupply= Supply_2017.append(Supply_2018)\n",
        "AllSupply= AllSupply.append(Supply_2019)\n",
        "#AllSupply.shape\n",
        "\n",
        "\n",
        "# Industry\n",
        "AllIndustry= Industrial_2017.append(Industrial_2018)\n",
        "AllIndustry= AllIndustry.append(Industrial_2019)\n",
        "#AllIndustry\n",
        "\n",
        "# DemandZonal\n",
        "AllDemandZonal= DemandZonal_2017.append(DemandZonal_2018)\n",
        "AllDemandZonal= AllDemandZonal.append(DemandZonal_2019)\n",
        "#AllDemandZonal\n",
        "\n",
        "# FuelMonthly\n",
        "AllFuel= FuelMonthly_2017.append(FuelMonthly_2018)\n",
        "AllFuel= AllFuel.append(FuelMonthly_2019)\n"
      ],
      "execution_count": 5,
      "outputs": []
    },
    {
      "cell_type": "code",
      "metadata": {
        "id": "swU6wMm4NuHp",
        "colab_type": "code",
        "colab": {
          "base_uri": "https://localhost:8080/",
          "height": 206
        },
        "outputId": "6fd89219-dae9-418b-a173-556f190fbc04"
      },
      "source": [
        "AllFuel.head()"
      ],
      "execution_count": 6,
      "outputs": [
        {
          "output_type": "execute_result",
          "data": {
            "text/html": [
              "<div>\n",
              "<style scoped>\n",
              "    .dataframe tbody tr th:only-of-type {\n",
              "        vertical-align: middle;\n",
              "    }\n",
              "\n",
              "    .dataframe tbody tr th {\n",
              "        vertical-align: top;\n",
              "    }\n",
              "\n",
              "    .dataframe thead th {\n",
              "        text-align: right;\n",
              "    }\n",
              "</style>\n",
              "<table border=\"1\" class=\"dataframe\">\n",
              "  <thead>\n",
              "    <tr style=\"text-align: right;\">\n",
              "      <th></th>\n",
              "      <th>DeliveryYear</th>\n",
              "      <th>Month</th>\n",
              "      <th>Fuel</th>\n",
              "      <th>EnergyGW</th>\n",
              "    </tr>\n",
              "  </thead>\n",
              "  <tbody>\n",
              "    <tr>\n",
              "      <th>0</th>\n",
              "      <td>2017</td>\n",
              "      <td>January</td>\n",
              "      <td>NUCLEAR</td>\n",
              "      <td>8387.85</td>\n",
              "    </tr>\n",
              "    <tr>\n",
              "      <th>1</th>\n",
              "      <td>2017</td>\n",
              "      <td>January</td>\n",
              "      <td>GAS</td>\n",
              "      <td>554.10</td>\n",
              "    </tr>\n",
              "    <tr>\n",
              "      <th>2</th>\n",
              "      <td>2017</td>\n",
              "      <td>January</td>\n",
              "      <td>HYDRO</td>\n",
              "      <td>3231.18</td>\n",
              "    </tr>\n",
              "    <tr>\n",
              "      <th>3</th>\n",
              "      <td>2017</td>\n",
              "      <td>January</td>\n",
              "      <td>WIND</td>\n",
              "      <td>1045.20</td>\n",
              "    </tr>\n",
              "    <tr>\n",
              "      <th>4</th>\n",
              "      <td>2017</td>\n",
              "      <td>January</td>\n",
              "      <td>SOLAR</td>\n",
              "      <td>17.66</td>\n",
              "    </tr>\n",
              "  </tbody>\n",
              "</table>\n",
              "</div>"
            ],
            "text/plain": [
              "   DeliveryYear    Month     Fuel  EnergyGW\n",
              "0          2017  January  NUCLEAR   8387.85\n",
              "1          2017  January      GAS    554.10\n",
              "2          2017  January    HYDRO   3231.18\n",
              "3          2017  January     WIND   1045.20\n",
              "4          2017  January    SOLAR     17.66"
            ]
          },
          "metadata": {
            "tags": []
          },
          "execution_count": 6
        }
      ]
    },
    {
      "cell_type": "code",
      "metadata": {
        "id": "DhvEKVw_NxWC",
        "colab_type": "code",
        "colab": {
          "base_uri": "https://localhost:8080/",
          "height": 206
        },
        "outputId": "4b8cafa4-0efa-4fb0-9009-fa7b52e54b4e"
      },
      "source": [
        "AllDemandZonal.head()"
      ],
      "execution_count": 7,
      "outputs": [
        {
          "output_type": "execute_result",
          "data": {
            "text/html": [
              "<div>\n",
              "<style scoped>\n",
              "    .dataframe tbody tr th:only-of-type {\n",
              "        vertical-align: middle;\n",
              "    }\n",
              "\n",
              "    .dataframe tbody tr th {\n",
              "        vertical-align: top;\n",
              "    }\n",
              "\n",
              "    .dataframe thead th {\n",
              "        text-align: right;\n",
              "    }\n",
              "</style>\n",
              "<table border=\"1\" class=\"dataframe\">\n",
              "  <thead>\n",
              "    <tr style=\"text-align: right;\">\n",
              "      <th></th>\n",
              "      <th>Date</th>\n",
              "      <th>Hour</th>\n",
              "      <th>Ontario Demand</th>\n",
              "      <th>Northwest</th>\n",
              "      <th>Northeast</th>\n",
              "      <th>Ottawa</th>\n",
              "      <th>East</th>\n",
              "      <th>Toronto</th>\n",
              "      <th>Essa</th>\n",
              "      <th>Bruce</th>\n",
              "      <th>Southwest</th>\n",
              "      <th>Niagara</th>\n",
              "      <th>West</th>\n",
              "      <th>Zone Total</th>\n",
              "      <th>Diff</th>\n",
              "    </tr>\n",
              "  </thead>\n",
              "  <tbody>\n",
              "    <tr>\n",
              "      <th>0</th>\n",
              "      <td>2017-01-01</td>\n",
              "      <td>1</td>\n",
              "      <td>13522</td>\n",
              "      <td>495</td>\n",
              "      <td>1476</td>\n",
              "      <td>1051</td>\n",
              "      <td>1203</td>\n",
              "      <td>5665</td>\n",
              "      <td>1045</td>\n",
              "      <td>72</td>\n",
              "      <td>2986</td>\n",
              "      <td>465</td>\n",
              "      <td>1334</td>\n",
              "      <td>15790</td>\n",
              "      <td>2,268</td>\n",
              "    </tr>\n",
              "    <tr>\n",
              "      <th>1</th>\n",
              "      <td>2017-01-01</td>\n",
              "      <td>2</td>\n",
              "      <td>13117</td>\n",
              "      <td>495</td>\n",
              "      <td>1476</td>\n",
              "      <td>1051</td>\n",
              "      <td>1203</td>\n",
              "      <td>5665</td>\n",
              "      <td>1045</td>\n",
              "      <td>72</td>\n",
              "      <td>2986</td>\n",
              "      <td>465</td>\n",
              "      <td>1334</td>\n",
              "      <td>15790</td>\n",
              "      <td>2,673</td>\n",
              "    </tr>\n",
              "    <tr>\n",
              "      <th>2</th>\n",
              "      <td>2017-01-01</td>\n",
              "      <td>3</td>\n",
              "      <td>12816</td>\n",
              "      <td>495</td>\n",
              "      <td>1476</td>\n",
              "      <td>1051</td>\n",
              "      <td>1203</td>\n",
              "      <td>5665</td>\n",
              "      <td>1045</td>\n",
              "      <td>72</td>\n",
              "      <td>2986</td>\n",
              "      <td>465</td>\n",
              "      <td>1334</td>\n",
              "      <td>15790</td>\n",
              "      <td>2,974</td>\n",
              "    </tr>\n",
              "    <tr>\n",
              "      <th>3</th>\n",
              "      <td>2017-01-01</td>\n",
              "      <td>4</td>\n",
              "      <td>12605</td>\n",
              "      <td>495</td>\n",
              "      <td>1476</td>\n",
              "      <td>1051</td>\n",
              "      <td>1203</td>\n",
              "      <td>5665</td>\n",
              "      <td>1045</td>\n",
              "      <td>72</td>\n",
              "      <td>2986</td>\n",
              "      <td>465</td>\n",
              "      <td>1334</td>\n",
              "      <td>15790</td>\n",
              "      <td>3,186</td>\n",
              "    </tr>\n",
              "    <tr>\n",
              "      <th>4</th>\n",
              "      <td>2017-01-01</td>\n",
              "      <td>5</td>\n",
              "      <td>12563</td>\n",
              "      <td>495</td>\n",
              "      <td>1476</td>\n",
              "      <td>1051</td>\n",
              "      <td>1203</td>\n",
              "      <td>5665</td>\n",
              "      <td>1045</td>\n",
              "      <td>72</td>\n",
              "      <td>2986</td>\n",
              "      <td>465</td>\n",
              "      <td>1334</td>\n",
              "      <td>15790</td>\n",
              "      <td>3,227</td>\n",
              "    </tr>\n",
              "  </tbody>\n",
              "</table>\n",
              "</div>"
            ],
            "text/plain": [
              "        Date  Hour  Ontario Demand  Northwest  ...  Niagara  West  Zone Total   Diff\n",
              "0 2017-01-01     1           13522        495  ...      465  1334       15790  2,268\n",
              "1 2017-01-01     2           13117        495  ...      465  1334       15790  2,673\n",
              "2 2017-01-01     3           12816        495  ...      465  1334       15790  2,974\n",
              "3 2017-01-01     4           12605        495  ...      465  1334       15790  3,186\n",
              "4 2017-01-01     5           12563        495  ...      465  1334       15790  3,227\n",
              "\n",
              "[5 rows x 15 columns]"
            ]
          },
          "metadata": {
            "tags": []
          },
          "execution_count": 7
        }
      ]
    },
    {
      "cell_type": "code",
      "metadata": {
        "id": "4c3tK8bBN202",
        "colab_type": "code",
        "colab": {
          "base_uri": "https://localhost:8080/",
          "height": 226
        },
        "outputId": "4bd61df3-d30b-4ca5-95f4-5e5089873deb"
      },
      "source": [
        "AllIndustry.head()"
      ],
      "execution_count": 8,
      "outputs": [
        {
          "output_type": "execute_result",
          "data": {
            "text/html": [
              "<div>\n",
              "<style scoped>\n",
              "    .dataframe tbody tr th:only-of-type {\n",
              "        vertical-align: middle;\n",
              "    }\n",
              "\n",
              "    .dataframe tbody tr th {\n",
              "        vertical-align: top;\n",
              "    }\n",
              "\n",
              "    .dataframe thead th {\n",
              "        text-align: right;\n",
              "    }\n",
              "</style>\n",
              "<table border=\"1\" class=\"dataframe\">\n",
              "  <thead>\n",
              "    <tr style=\"text-align: right;\">\n",
              "      <th></th>\n",
              "      <th>DeliveryDate</th>\n",
              "      <th>Hour</th>\n",
              "      <th>QtyIronSteel</th>\n",
              "      <th>QtyMetalOre</th>\n",
              "      <th>QtyMotorVehicle</th>\n",
              "      <th>QtyPetroCoal</th>\n",
              "      <th>QtyPulpPaper</th>\n",
              "      <th>QtyOtherIndstr</th>\n",
              "      <th>QtyManufactr</th>\n",
              "      <th>QtyElecPower</th>\n",
              "      <th>QtyLdc</th>\n",
              "      <th>QtyDirectConnect</th>\n",
              "    </tr>\n",
              "  </thead>\n",
              "  <tbody>\n",
              "    <tr>\n",
              "      <th>0</th>\n",
              "      <td>2017-01-01</td>\n",
              "      <td>1</td>\n",
              "      <td>284</td>\n",
              "      <td>580</td>\n",
              "      <td>48</td>\n",
              "      <td>140</td>\n",
              "      <td>187</td>\n",
              "      <td>101</td>\n",
              "      <td>293</td>\n",
              "      <td>255</td>\n",
              "      <td>11,313</td>\n",
              "      <td>12,960</td>\n",
              "    </tr>\n",
              "    <tr>\n",
              "      <th>1</th>\n",
              "      <td>2017-01-01</td>\n",
              "      <td>2</td>\n",
              "      <td>325</td>\n",
              "      <td>591</td>\n",
              "      <td>48</td>\n",
              "      <td>140</td>\n",
              "      <td>192</td>\n",
              "      <td>100</td>\n",
              "      <td>296</td>\n",
              "      <td>254</td>\n",
              "      <td>10,916</td>\n",
              "      <td>12,625</td>\n",
              "    </tr>\n",
              "    <tr>\n",
              "      <th>2</th>\n",
              "      <td>2017-01-01</td>\n",
              "      <td>3</td>\n",
              "      <td>330</td>\n",
              "      <td>569</td>\n",
              "      <td>48</td>\n",
              "      <td>140</td>\n",
              "      <td>193</td>\n",
              "      <td>101</td>\n",
              "      <td>296</td>\n",
              "      <td>251</td>\n",
              "      <td>10,561</td>\n",
              "      <td>12,251</td>\n",
              "    </tr>\n",
              "    <tr>\n",
              "      <th>3</th>\n",
              "      <td>2017-01-01</td>\n",
              "      <td>4</td>\n",
              "      <td>356</td>\n",
              "      <td>584</td>\n",
              "      <td>48</td>\n",
              "      <td>140</td>\n",
              "      <td>196</td>\n",
              "      <td>101</td>\n",
              "      <td>298</td>\n",
              "      <td>250</td>\n",
              "      <td>10,314</td>\n",
              "      <td>12,050</td>\n",
              "    </tr>\n",
              "    <tr>\n",
              "      <th>4</th>\n",
              "      <td>2017-01-01</td>\n",
              "      <td>5</td>\n",
              "      <td>321</td>\n",
              "      <td>590</td>\n",
              "      <td>48</td>\n",
              "      <td>140</td>\n",
              "      <td>195</td>\n",
              "      <td>102</td>\n",
              "      <td>298</td>\n",
              "      <td>251</td>\n",
              "      <td>10,234</td>\n",
              "      <td>11,941</td>\n",
              "    </tr>\n",
              "  </tbody>\n",
              "</table>\n",
              "</div>"
            ],
            "text/plain": [
              "  DeliveryDate  Hour  QtyIronSteel  ...  QtyElecPower  QtyLdc  QtyDirectConnect\n",
              "0   2017-01-01     1           284  ...           255  11,313            12,960\n",
              "1   2017-01-01     2           325  ...           254  10,916            12,625\n",
              "2   2017-01-01     3           330  ...           251  10,561            12,251\n",
              "3   2017-01-01     4           356  ...           250  10,314            12,050\n",
              "4   2017-01-01     5           321  ...           251  10,234            11,941\n",
              "\n",
              "[5 rows x 12 columns]"
            ]
          },
          "metadata": {
            "tags": []
          },
          "execution_count": 8
        }
      ]
    },
    {
      "cell_type": "code",
      "metadata": {
        "id": "Y6VVPrnhN6Kt",
        "colab_type": "code",
        "colab": {
          "base_uri": "https://localhost:8080/",
          "height": 206
        },
        "outputId": "0080cea1-e3fc-4b5b-f28b-6b7e199dc11b"
      },
      "source": [
        "AllSupply.head()"
      ],
      "execution_count": 9,
      "outputs": [
        {
          "output_type": "execute_result",
          "data": {
            "text/html": [
              "<div>\n",
              "<style scoped>\n",
              "    .dataframe tbody tr th:only-of-type {\n",
              "        vertical-align: middle;\n",
              "    }\n",
              "\n",
              "    .dataframe tbody tr th {\n",
              "        vertical-align: top;\n",
              "    }\n",
              "\n",
              "    .dataframe thead th {\n",
              "        text-align: right;\n",
              "    }\n",
              "</style>\n",
              "<table border=\"1\" class=\"dataframe\">\n",
              "  <thead>\n",
              "    <tr style=\"text-align: right;\">\n",
              "      <th></th>\n",
              "      <th>Date</th>\n",
              "      <th>Hour</th>\n",
              "      <th>NUCLEAR</th>\n",
              "      <th>GAS</th>\n",
              "      <th>HYDRO</th>\n",
              "      <th>WIND</th>\n",
              "      <th>SOLAR</th>\n",
              "      <th>BIOFUEL</th>\n",
              "      <th>Total Output</th>\n",
              "    </tr>\n",
              "  </thead>\n",
              "  <tbody>\n",
              "    <tr>\n",
              "      <th>0</th>\n",
              "      <td>2017-01-01</td>\n",
              "      <td>1</td>\n",
              "      <td>11592</td>\n",
              "      <td>234</td>\n",
              "      <td>2455</td>\n",
              "      <td>2433</td>\n",
              "      <td>0</td>\n",
              "      <td>1</td>\n",
              "      <td>16715</td>\n",
              "    </tr>\n",
              "    <tr>\n",
              "      <th>1</th>\n",
              "      <td>2017-01-01</td>\n",
              "      <td>2</td>\n",
              "      <td>11591</td>\n",
              "      <td>235</td>\n",
              "      <td>2523</td>\n",
              "      <td>1994</td>\n",
              "      <td>0</td>\n",
              "      <td>1</td>\n",
              "      <td>16344</td>\n",
              "    </tr>\n",
              "    <tr>\n",
              "      <th>2</th>\n",
              "      <td>2017-01-01</td>\n",
              "      <td>3</td>\n",
              "      <td>11596</td>\n",
              "      <td>234</td>\n",
              "      <td>2464</td>\n",
              "      <td>1647</td>\n",
              "      <td>0</td>\n",
              "      <td>1</td>\n",
              "      <td>15942</td>\n",
              "    </tr>\n",
              "    <tr>\n",
              "      <th>3</th>\n",
              "      <td>2017-01-01</td>\n",
              "      <td>4</td>\n",
              "      <td>11610</td>\n",
              "      <td>236</td>\n",
              "      <td>2494</td>\n",
              "      <td>1386</td>\n",
              "      <td>0</td>\n",
              "      <td>1</td>\n",
              "      <td>15727</td>\n",
              "    </tr>\n",
              "    <tr>\n",
              "      <th>4</th>\n",
              "      <td>2017-01-01</td>\n",
              "      <td>5</td>\n",
              "      <td>11611</td>\n",
              "      <td>235</td>\n",
              "      <td>2476</td>\n",
              "      <td>1330</td>\n",
              "      <td>0</td>\n",
              "      <td>1</td>\n",
              "      <td>15653</td>\n",
              "    </tr>\n",
              "  </tbody>\n",
              "</table>\n",
              "</div>"
            ],
            "text/plain": [
              "        Date  Hour  NUCLEAR  GAS  HYDRO  WIND  SOLAR  BIOFUEL  Total Output\n",
              "0 2017-01-01     1    11592  234   2455  2433      0        1         16715\n",
              "1 2017-01-01     2    11591  235   2523  1994      0        1         16344\n",
              "2 2017-01-01     3    11596  234   2464  1647      0        1         15942\n",
              "3 2017-01-01     4    11610  236   2494  1386      0        1         15727\n",
              "4 2017-01-01     5    11611  235   2476  1330      0        1         15653"
            ]
          },
          "metadata": {
            "tags": []
          },
          "execution_count": 9
        }
      ]
    },
    {
      "cell_type": "code",
      "metadata": {
        "id": "eo2qQkCiN93L",
        "colab_type": "code",
        "colab": {
          "base_uri": "https://localhost:8080/",
          "height": 206
        },
        "outputId": "11801bce-c927-4f63-9774-3624f0ca639c"
      },
      "source": [
        "AllDemand.head()"
      ],
      "execution_count": 10,
      "outputs": [
        {
          "output_type": "execute_result",
          "data": {
            "text/html": [
              "<div>\n",
              "<style scoped>\n",
              "    .dataframe tbody tr th:only-of-type {\n",
              "        vertical-align: middle;\n",
              "    }\n",
              "\n",
              "    .dataframe tbody tr th {\n",
              "        vertical-align: top;\n",
              "    }\n",
              "\n",
              "    .dataframe thead th {\n",
              "        text-align: right;\n",
              "    }\n",
              "</style>\n",
              "<table border=\"1\" class=\"dataframe\">\n",
              "  <thead>\n",
              "    <tr style=\"text-align: right;\">\n",
              "      <th></th>\n",
              "      <th>Date</th>\n",
              "      <th>Hour</th>\n",
              "      <th>Market Demand</th>\n",
              "      <th>Ontario Demand</th>\n",
              "    </tr>\n",
              "  </thead>\n",
              "  <tbody>\n",
              "    <tr>\n",
              "      <th>0</th>\n",
              "      <td>2017-01-01</td>\n",
              "      <td>1</td>\n",
              "      <td>17172</td>\n",
              "      <td>13522</td>\n",
              "    </tr>\n",
              "    <tr>\n",
              "      <th>1</th>\n",
              "      <td>2017-01-01</td>\n",
              "      <td>2</td>\n",
              "      <td>16757</td>\n",
              "      <td>13117</td>\n",
              "    </tr>\n",
              "    <tr>\n",
              "      <th>2</th>\n",
              "      <td>2017-01-01</td>\n",
              "      <td>3</td>\n",
              "      <td>16370</td>\n",
              "      <td>12816</td>\n",
              "    </tr>\n",
              "    <tr>\n",
              "      <th>3</th>\n",
              "      <td>2017-01-01</td>\n",
              "      <td>4</td>\n",
              "      <td>16075</td>\n",
              "      <td>12605</td>\n",
              "    </tr>\n",
              "    <tr>\n",
              "      <th>4</th>\n",
              "      <td>2017-01-01</td>\n",
              "      <td>5</td>\n",
              "      <td>16050</td>\n",
              "      <td>12563</td>\n",
              "    </tr>\n",
              "  </tbody>\n",
              "</table>\n",
              "</div>"
            ],
            "text/plain": [
              "        Date  Hour  Market Demand  Ontario Demand\n",
              "0 2017-01-01     1          17172           13522\n",
              "1 2017-01-01     2          16757           13117\n",
              "2 2017-01-01     3          16370           12816\n",
              "3 2017-01-01     4          16075           12605\n",
              "4 2017-01-01     5          16050           12563"
            ]
          },
          "metadata": {
            "tags": []
          },
          "execution_count": 10
        }
      ]
    },
    {
      "cell_type": "markdown",
      "metadata": {
        "id": "B_WnI2lGpebT",
        "colab_type": "text"
      },
      "source": [
        "##4. Feature Engineering\n",
        "\n"
      ]
    },
    {
      "cell_type": "markdown",
      "metadata": {
        "id": "rRXPNN1mHxhj",
        "colab_type": "text"
      },
      "source": [
        "Adding some featurs to the dataset"
      ]
    },
    {
      "cell_type": "code",
      "metadata": {
        "id": "u4AL1FEGlhBA",
        "colab_type": "code",
        "colab": {}
      },
      "source": [
        "# Add Day & Month\n",
        "# Demand\n",
        "AllDemand['Date'] = pd.to_datetime(AllDemand['Date']) \n",
        "AllDemand['Day'] = AllDemand['Date'].dt.day_name() \n",
        "AllDemand['Month'] = pd.DatetimeIndex(AllDemand['Date']).month \n",
        "AllDemand['Month'] = AllDemand['Month'].apply(lambda x: calendar.month_abbr[x])\n",
        "\n",
        "# Supply\n",
        "AllSupply['Date'] = pd.to_datetime(AllSupply['Date']) \n",
        "AllSupply['Day'] = AllSupply['Date'].dt.day_name()\n",
        "AllSupply['Month'] = pd.DatetimeIndex(AllSupply['Date']).month \n",
        "AllSupply['Month'] = AllSupply['Month'].apply(lambda x: calendar.month_abbr[x])\n",
        "\n",
        "#Industry\n",
        "AllIndustry['DeliveryDate'] = pd.to_datetime(AllIndustry['DeliveryDate']) \n",
        "AllIndustry['Day'] = AllIndustry['DeliveryDate'].dt.day_name()\n",
        "AllIndustry['Month'] = pd.DatetimeIndex(AllIndustry['DeliveryDate']).month \n",
        "AllIndustry['Month'] = AllIndustry['Month'].apply(lambda x: calendar.month_abbr[x])\n",
        "\n",
        "# DemandZonal\n",
        "AllDemandZonal['Date'] = pd.to_datetime(AllDemandZonal['Date']) \n",
        "AllDemandZonal['Day'] = AllDemandZonal['Date'].dt.day_name()\n",
        "AllDemandZonal['Month'] = pd.DatetimeIndex(AllDemandZonal['Date']).month \n",
        "AllDemandZonal['Month'] = AllDemandZonal['Month'].apply(lambda x: calendar.month_abbr[x])\n"
      ],
      "execution_count": 11,
      "outputs": []
    },
    {
      "cell_type": "code",
      "metadata": {
        "id": "FYiWXxfxIcL1",
        "colab_type": "code",
        "colab": {}
      },
      "source": [
        "#Add Index\n",
        "AllDemand.set_index(['Date'], inplace=True)"
      ],
      "execution_count": 12,
      "outputs": []
    },
    {
      "cell_type": "markdown",
      "metadata": {
        "id": "ZMo8lls5E3U8",
        "colab_type": "text"
      },
      "source": [
        "##5. Data Visualisation"
      ]
    },
    {
      "cell_type": "markdown",
      "metadata": {
        "id": "UohWEjTGN3lB",
        "colab_type": "text"
      },
      "source": [
        "**Exploratory Analysis**\n",
        "Since the frequency currently is in the hourly level, this will make it difficult to visualise. So we will resample it and aggregate it to a daily/weekly and monthly level."
      ]
    },
    {
      "cell_type": "code",
      "metadata": {
        "id": "owjM4FBC_npC",
        "colab_type": "code",
        "colab": {
          "base_uri": "https://localhost:8080/",
          "height": 230
        },
        "outputId": "1c1655de-a801-45c7-92e2-6a905845d2c4"
      },
      "source": [
        "Monthly_data = Demand.resample(rule='M').sum()\n",
        "Monthly_data = weekly_data.asfreq('M')\n",
        "Monthly_data['Ontario Demand'].plot();\n",
        "Monthly_data['Market Demand'].plot();"
      ],
      "execution_count": 13,
      "outputs": [
        {
          "output_type": "error",
          "ename": "NameError",
          "evalue": "ignored",
          "traceback": [
            "\u001b[0;31m---------------------------------------------------------------------------\u001b[0m",
            "\u001b[0;31mNameError\u001b[0m                                 Traceback (most recent call last)",
            "\u001b[0;32m<ipython-input-13-0caefed94308>\u001b[0m in \u001b[0;36m<module>\u001b[0;34m()\u001b[0m\n\u001b[0;32m----> 1\u001b[0;31m \u001b[0mMonthly_data\u001b[0m \u001b[0;34m=\u001b[0m \u001b[0mDemand\u001b[0m\u001b[0;34m.\u001b[0m\u001b[0mresample\u001b[0m\u001b[0;34m(\u001b[0m\u001b[0mrule\u001b[0m\u001b[0;34m=\u001b[0m\u001b[0;34m'M'\u001b[0m\u001b[0;34m)\u001b[0m\u001b[0;34m.\u001b[0m\u001b[0msum\u001b[0m\u001b[0;34m(\u001b[0m\u001b[0;34m)\u001b[0m\u001b[0;34m\u001b[0m\u001b[0;34m\u001b[0m\u001b[0m\n\u001b[0m\u001b[1;32m      2\u001b[0m \u001b[0mMonthly_data\u001b[0m \u001b[0;34m=\u001b[0m \u001b[0mweekly_data\u001b[0m\u001b[0;34m.\u001b[0m\u001b[0masfreq\u001b[0m\u001b[0;34m(\u001b[0m\u001b[0;34m'M'\u001b[0m\u001b[0;34m)\u001b[0m\u001b[0;34m\u001b[0m\u001b[0;34m\u001b[0m\u001b[0m\n\u001b[1;32m      3\u001b[0m \u001b[0mMonthly_data\u001b[0m\u001b[0;34m[\u001b[0m\u001b[0;34m'Ontario Demand'\u001b[0m\u001b[0;34m]\u001b[0m\u001b[0;34m.\u001b[0m\u001b[0mplot\u001b[0m\u001b[0;34m(\u001b[0m\u001b[0;34m)\u001b[0m\u001b[0;34m;\u001b[0m\u001b[0;34m\u001b[0m\u001b[0;34m\u001b[0m\u001b[0m\n\u001b[1;32m      4\u001b[0m \u001b[0mMonthly_data\u001b[0m\u001b[0;34m[\u001b[0m\u001b[0;34m'Market Demand'\u001b[0m\u001b[0;34m]\u001b[0m\u001b[0;34m.\u001b[0m\u001b[0mplot\u001b[0m\u001b[0;34m(\u001b[0m\u001b[0;34m)\u001b[0m\u001b[0;34m;\u001b[0m\u001b[0;34m\u001b[0m\u001b[0;34m\u001b[0m\u001b[0m\n",
            "\u001b[0;31mNameError\u001b[0m: name 'Demand' is not defined"
          ]
        }
      ]
    },
    {
      "cell_type": "markdown",
      "metadata": {
        "id": "eHoXXtfsSRtu",
        "colab_type": "text"
      },
      "source": [
        "As it is clear in the plot, the Electricity consumption has the highest usage in Jan/Dec.This might be due to several factors, the most obvious being new year and more electricity demand. Another major factor is the correlation between general weather condition and electricity usage. Extreme High and cold temperatures encourage more electricity usage as office buildings and homes require cooling and heating."
      ]
    },
    {
      "cell_type": "code",
      "metadata": {
        "id": "Lo62ku6D8Fvg",
        "colab_type": "code",
        "colab": {}
      },
      "source": [
        "#Now there's a tail end where it's not a full day, so it's dropping off.\n",
        "\n",
        "#For our purposes, we will just delete that part day.\n",
        "\n",
        "daily_data = daily_data.drop([daily_data.index.min(), daily_data.index.max()])"
      ],
      "execution_count": null,
      "outputs": []
    },
    {
      "cell_type": "markdown",
      "metadata": {
        "id": "IFXtpzGQOrQi",
        "colab_type": "text"
      },
      "source": [
        "**Data Visualisation**\n",
        "We can see the pattern in data- electricity usage seem to be very seasonal and repetitive. This makes sense, it migh be due to weather patterns,  holidays, weekends etc.\n",
        "Furthermore, you can see the trend of the data seems to be trailing upwards in the last few years."
      ]
    },
    {
      "cell_type": "code",
      "metadata": {
        "id": "Km2kSKMV8Lmm",
        "colab_type": "code",
        "colab": {}
      },
      "source": [
        "from statsmodels.tsa.seasonal import seasonal_decompose\n",
        "from matplotlib.dates import DateFormatter"
      ],
      "execution_count": null,
      "outputs": []
    },
    {
      "cell_type": "markdown",
      "metadata": {
        "id": "4-awe11cOvOh",
        "colab_type": "text"
      },
      "source": [
        ""
      ]
    },
    {
      "cell_type": "code",
      "metadata": {
        "id": "i_bRaXNO8ObV",
        "colab_type": "code",
        "colab": {}
      },
      "source": [
        "weekly_data = Ontario_Demand.resample(rule='W').sum()\n",
        "decomposition = seasonal_decompose(weekly_data, model='additive') # Aggregate to weekly level\n",
        "\n",
        "fig = decomposition.plot()\n",
        "plt.show()"
      ],
      "execution_count": null,
      "outputs": []
    },
    {
      "cell_type": "markdown",
      "metadata": {
        "id": "dTf4lN_XFEW-",
        "colab_type": "text"
      },
      "source": [
        "## 6. Designing Models"
      ]
    },
    {
      "cell_type": "markdown",
      "metadata": {
        "id": "u_Kka0u-FNHu",
        "colab_type": "text"
      },
      "source": [
        "###6.1. XGBoost\n",
        "\n"
      ]
    },
    {
      "cell_type": "markdown",
      "metadata": {
        "id": "-6RaSDGkFSwr",
        "colab_type": "text"
      },
      "source": [
        "####Train & Test Split\n"
      ]
    },
    {
      "cell_type": "code",
      "metadata": {
        "id": "pddsYN4OUTgL",
        "colab_type": "code",
        "colab": {}
      },
      "source": [
        "split_date = '31-Dec-2018'\n",
        "df_train = AllSupply.loc[df.index <= split_date].copy() #changed from df_norm\n",
        "df_test = AllSupply.loc[df.index > split_date].copy() #changed from df_norm"
      ],
      "execution_count": null,
      "outputs": []
    },
    {
      "cell_type": "markdown",
      "metadata": {
        "id": "dKUD1APvFXh7",
        "colab_type": "text"
      },
      "source": [
        "####Creating XGBoost model"
      ]
    },
    {
      "cell_type": "markdown",
      "metadata": {
        "id": "rE5NckXJFbG8",
        "colab_type": "text"
      },
      "source": [
        "####Prediction"
      ]
    },
    {
      "cell_type": "markdown",
      "metadata": {
        "id": "GaX8XIxlFge8",
        "colab_type": "text"
      },
      "source": [
        "####EvaluationList item"
      ]
    },
    {
      "cell_type": "markdown",
      "metadata": {
        "id": "J_PW8m0cF9oG",
        "colab_type": "text"
      },
      "source": [
        "###6.2. RNN"
      ]
    },
    {
      "cell_type": "markdown",
      "metadata": {
        "id": "ikNzJ8JHGDRF",
        "colab_type": "text"
      },
      "source": [
        "####Train & Test Split"
      ]
    },
    {
      "cell_type": "markdown",
      "metadata": {
        "id": "0JgqjIUmGJFN",
        "colab_type": "text"
      },
      "source": [
        "####Creating RNN model"
      ]
    },
    {
      "cell_type": "markdown",
      "metadata": {
        "id": "IV4JdNDVGO30",
        "colab_type": "text"
      },
      "source": [
        "####Prediction"
      ]
    },
    {
      "cell_type": "markdown",
      "metadata": {
        "id": "-GPp8JcJGSvD",
        "colab_type": "text"
      },
      "source": [
        "####Evaluation"
      ]
    },
    {
      "cell_type": "markdown",
      "metadata": {
        "id": "BSiNKC_vGYBd",
        "colab_type": "text"
      },
      "source": [
        "###6.3. LSTM"
      ]
    },
    {
      "cell_type": "markdown",
      "metadata": {
        "id": "UUzxipWOGbzE",
        "colab_type": "text"
      },
      "source": [
        "####Train & Test Split"
      ]
    },
    {
      "cell_type": "markdown",
      "metadata": {
        "id": "y_rsOvuUGiIa",
        "colab_type": "text"
      },
      "source": [
        "####Creating LSTM model"
      ]
    },
    {
      "cell_type": "markdown",
      "metadata": {
        "id": "Dh68HKZ2GpDV",
        "colab_type": "text"
      },
      "source": [
        "####Prediction"
      ]
    },
    {
      "cell_type": "markdown",
      "metadata": {
        "id": "j8fcwvehGsLj",
        "colab_type": "text"
      },
      "source": [
        "####Evaluation"
      ]
    },
    {
      "cell_type": "markdown",
      "metadata": {
        "id": "9VJNmaG6G1Wc",
        "colab_type": "text"
      },
      "source": [
        "##7. Evaluating Final Models"
      ]
    }
  ]
}