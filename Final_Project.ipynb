{
  "nbformat": 4,
  "nbformat_minor": 0,
  "metadata": {
    "colab": {
      "name": "Final Project.ipynb",
      "provenance": [],
      "collapsed_sections": [],
      "include_colab_link": true
    },
    "kernelspec": {
      "name": "python3",
      "display_name": "Python 3"
    }
  },
  "cells": [
    {
      "cell_type": "markdown",
      "metadata": {
        "id": "view-in-github",
        "colab_type": "text"
      },
      "source": [
        "<a href=\"https://colab.research.google.com/github/janosepah/ML_Project/blob/master/Final_Project.ipynb\" target=\"_parent\"><img src=\"https://colab.research.google.com/assets/colab-badge.svg\" alt=\"Open In Colab\"/></a>"
      ]
    },
    {
      "cell_type": "markdown",
      "metadata": {
        "id": "esMNcSBFObXI",
        "colab_type": "text"
      },
      "source": [
        "#Predicting Electricity Supply and Demand\n",
        "Team Members (alphabetical order):\n",
        "-\tSamarah Azimpoor\n",
        "-\tSafoura Janosepah\n"
      ]
    },
    {
      "cell_type": "markdown",
      "metadata": {
        "id": "1g-NbjLROyI8",
        "colab_type": "text"
      },
      "source": [
        "# Power Data Source - IESO\n",
        "\n",
        "## Market Demand\n",
        "### Market Demand Definitions and Graphs\n",
        "The graph below plots values for both Total Market Demand and Ontario Demand.\n",
        "\n",
        "- **Total Market Demand** represents the total energy that was supplied from the IESO-Administered Market.\n",
        "\n",
        "The IESO calculates Total Market Demand by summing all output from generators registered in the Market plus all scheduled imports to the province. It is also equal to the sum of all load supplied from the Market plus exports from the province, plus all line losses incurred on the IESO-controlled grid.\n",
        "\n",
        "- **Ontario Demand** represents the total energy that was supplied from the IESO-Administered Market for the purpose of supplying load within Ontario.\n",
        "\n",
        "It is also equal to the sum of all loads within Ontario which is supplied from the Market, plus all line losses incurred on the IESO-controlled grid.\n"
      ]
    },
    {
      "cell_type": "markdown",
      "metadata": {
        "id": "3jdLz0E5BQHl",
        "colab_type": "text"
      },
      "source": [
        "##**Table of Content**\n",
        "\n",
        "1.   Importing Liblaries\n",
        "2.   Loading the Data\n",
        "3.   Data Pre-Processing\n",
        "4.   Feature Engineering\n",
        "5.   Data Visualisation\n",
        "6.   Designing Models\n",
        " \n",
        " 6.1.   XGBoost\n",
        "       * Train & Test Split\n",
        "       * Creating XGBoost model\n",
        "       * Prediction\n",
        "       * EvaluationList item\n",
        " \n",
        " 6.2.  RNN\n",
        "       * Train & Test Split\n",
        "       * Creating RNN model\n",
        "       * Prediction\n",
        "       * EvaluationList item\n",
        " \n",
        " 6.3.   LSTM\n",
        "       * Train & Test Split\n",
        "       * Creating LSTM model\n",
        "       * Prediction\n",
        "       * EvaluationList item\n",
        "\n",
        "7.    Evaluating Final Models\n",
        "\n"
      ]
    },
    {
      "cell_type": "markdown",
      "metadata": {
        "id": "rmfYEdh4NOpp",
        "colab_type": "text"
      },
      "source": [
        "##1. **Importing Liblaries**"
      ]
    },
    {
      "cell_type": "code",
      "metadata": {
        "id": "vBJ3KP66OiDI",
        "colab_type": "code",
        "colab": {}
      },
      "source": [
        "import pandas as pd\n",
        "import numpy as np\n",
        "from datetime import datetime\n",
        "import matplotlib.pyplot as plt\n",
        "import seaborn as sns\n",
        "import os\n",
        "import calendar\n"
      ],
      "execution_count": null,
      "outputs": []
    },
    {
      "cell_type": "code",
      "metadata": {
        "id": "BiMJpQHe8ijG",
        "colab_type": "code",
        "colab": {}
      },
      "source": [
        "# Set default plot styles\n",
        "plt.style.use('seaborn')\n",
        "plt.rcParams['figure.figsize'] = (16, 6)\n",
        "plt.rcParams['axes.titlesize'] = 20\n",
        "plt.rcParams['xtick.labelsize'] = 14\n",
        "plt.rcParams['ytick.labelsize'] = 14\n",
        "plt.rcParams['axes.labelsize'] = 14"
      ],
      "execution_count": null,
      "outputs": []
    },
    {
      "cell_type": "markdown",
      "metadata": {
        "id": "cBBhYQ_RNr6s",
        "colab_type": "text"
      },
      "source": [
        "##2. **Loading The Data**"
      ]
    },
    {
      "cell_type": "code",
      "metadata": {
        "id": "I4enbMzn0JW9",
        "colab_type": "code",
        "colab": {
          "base_uri": "https://localhost:8080/",
          "height": 206
        },
        "outputId": "f7eb6bce-ade8-4cd8-f3d4-e0e34facc874"
      },
      "source": [
        "# Load Data \n",
        "Data_Path = 'https://raw.githubusercontent.com/janosepah/ML_Project/master/Data/'\n",
        "\n",
        "# Demand\n",
        "Demand_2017 = pd.read_csv(Data_Path + 'PUB_Demand_2017.csv', parse_dates=['Date'])\n",
        "Demand_2017.head()\n",
        "#Demand_2017.shape\n",
        "\n",
        "Demand_2018 = pd.read_csv(Data_Path + 'PUB_Demand_2018.csv', parse_dates=['Date'])\n",
        "Demand_2018.head()\n",
        "#Demand_2018.shape\n",
        "\n",
        "Demand_2019 = pd.read_csv(Data_Path + 'PUB_Demand_2019.csv', parse_dates=['Date'])\n",
        "Demand_2019.head()\n",
        "#Demand_2019.shape\n",
        "\n",
        "# Supply\n",
        "Supply_2017 = pd.read_csv(Data_Path + '2017_Hourly_Output.csv', parse_dates=['Date'])\n",
        "Supply_2017.head()\n",
        "#Supply_2017.shape\n",
        "\n",
        "Supply_2018 = pd.read_csv(Data_Path + '2018_Hourly_Output.csv', parse_dates=['Date'])\n",
        "Supply_2018.head()\n",
        "#Supply_2018.shape\n",
        "\n",
        "Supply_2019 = pd.read_csv(Data_Path + '2019_Hourly_Output.csv', parse_dates=['Date'])\n",
        "Supply_2019.head()\n",
        "#Supply_2019.shape\n",
        "\n",
        "# Industry\n",
        "Industrial_2019 =pd.read_csv(Data_Path + 'Industrial_Load_2019.csv', parse_dates=['DeliveryDate'])\n",
        "Industrial_2019.head()\n",
        "\n",
        "Industrial_2018 =pd.read_csv(Data_Path + 'Industrial_Load_2018.csv', parse_dates=['DeliveryDate'])\n",
        "Industrial_2018.head()\n",
        "\n",
        "Industrial_2017 =pd.read_csv(Data_Path + 'Industrial_Load_2017.csv', parse_dates=['DeliveryDate'])\n",
        "Industrial_2017.head()\n",
        "\n",
        "# DemandZonal\n",
        "DemandZonal_2017 =pd.read_csv(Data_Path + 'PUB_DemandZonal_2017.csv', parse_dates=['Date'])\n",
        "DemandZonal_2017.head()\n",
        "\n",
        "DemandZonal_2018 =pd.read_csv(Data_Path + 'PUB_DemandZonal_2018.csv', parse_dates=['Date'])\n",
        "DemandZonal_2018.head()\n",
        "\n",
        "DemandZonal_2019 =pd.read_csv(Data_Path + 'PUB_DemandZonal_2019.csv', parse_dates=['Date'])\n",
        "DemandZonal_2019.head()\n",
        "\n",
        "# FuelMonthly\n",
        "FuelMonthly_2017 =pd.read_csv(Data_Path + 'PUB_GenOutputbyFuelMonthly_2017.csv')\n",
        "FuelMonthly_2017.head()\n",
        "\n",
        "FuelMonthly_2018 =pd.read_csv(Data_Path + 'PUB_GenOutputbyFuelMonthly_2018.csv')\n",
        "FuelMonthly_2018.head()\n",
        "\n",
        "FuelMonthly_2019 =pd.read_csv(Data_Path + 'PUB_GenOutputbyFuelMonthly_2019.csv')\n",
        "FuelMonthly_2019.head()\n"
      ],
      "execution_count": null,
      "outputs": [
        {
          "output_type": "execute_result",
          "data": {
            "text/html": [
              "<div>\n",
              "<style scoped>\n",
              "    .dataframe tbody tr th:only-of-type {\n",
              "        vertical-align: middle;\n",
              "    }\n",
              "\n",
              "    .dataframe tbody tr th {\n",
              "        vertical-align: top;\n",
              "    }\n",
              "\n",
              "    .dataframe thead th {\n",
              "        text-align: right;\n",
              "    }\n",
              "</style>\n",
              "<table border=\"1\" class=\"dataframe\">\n",
              "  <thead>\n",
              "    <tr style=\"text-align: right;\">\n",
              "      <th></th>\n",
              "      <th>DeliveryYear</th>\n",
              "      <th>Month</th>\n",
              "      <th>Fuel</th>\n",
              "      <th>EnergyGW</th>\n",
              "    </tr>\n",
              "  </thead>\n",
              "  <tbody>\n",
              "    <tr>\n",
              "      <th>0</th>\n",
              "      <td>2019</td>\n",
              "      <td>January</td>\n",
              "      <td>NUCLEAR</td>\n",
              "      <td>8057.99</td>\n",
              "    </tr>\n",
              "    <tr>\n",
              "      <th>1</th>\n",
              "      <td>2019</td>\n",
              "      <td>January</td>\n",
              "      <td>GAS</td>\n",
              "      <td>941.07</td>\n",
              "    </tr>\n",
              "    <tr>\n",
              "      <th>2</th>\n",
              "      <td>2019</td>\n",
              "      <td>January</td>\n",
              "      <td>HYDRO</td>\n",
              "      <td>3422.35</td>\n",
              "    </tr>\n",
              "    <tr>\n",
              "      <th>3</th>\n",
              "      <td>2019</td>\n",
              "      <td>January</td>\n",
              "      <td>WIND</td>\n",
              "      <td>1435.37</td>\n",
              "    </tr>\n",
              "    <tr>\n",
              "      <th>4</th>\n",
              "      <td>2019</td>\n",
              "      <td>January</td>\n",
              "      <td>SOLAR</td>\n",
              "      <td>24.86</td>\n",
              "    </tr>\n",
              "  </tbody>\n",
              "</table>\n",
              "</div>"
            ],
            "text/plain": [
              "   DeliveryYear    Month     Fuel  EnergyGW\n",
              "0          2019  January  NUCLEAR   8057.99\n",
              "1          2019  January      GAS    941.07\n",
              "2          2019  January    HYDRO   3422.35\n",
              "3          2019  January     WIND   1435.37\n",
              "4          2019  January    SOLAR     24.86"
            ]
          },
          "metadata": {
            "tags": []
          },
          "execution_count": 30
        }
      ]
    },
    {
      "cell_type": "markdown",
      "metadata": {
        "id": "5T4oU6O0TCMR",
        "colab_type": "text"
      },
      "source": [
        "## 3. Data Pre-Processing"
      ]
    },
    {
      "cell_type": "markdown",
      "metadata": {
        "id": "sEH1GBEHHnD2",
        "colab_type": "text"
      },
      "source": [
        "Merging Data"
      ]
    },
    {
      "cell_type": "code",
      "metadata": {
        "id": "pagtbueETBa8",
        "colab_type": "code",
        "colab": {}
      },
      "source": [
        "# Demand\n",
        "AllDemand= Demand_2017.append(Demand_2018)\n",
        "AllDemand= AllDemand.append(Demand_2019)\n",
        "#AllDemand.shape\n",
        "\n",
        "# Supply\n",
        "AllSupply= Supply_2017.append(Supply_2018)\n",
        "AllSupply= AllSupply.append(Supply_2019)\n",
        "#AllSupply.shape\n",
        "\n",
        "\n",
        "# Industry\n",
        "AllIndustry= Industrial_2017.append(Industrial_2018)\n",
        "AllIndustry= AllIndustry.append(Industrial_2019)\n",
        "#AllIndustry\n",
        "\n",
        "# DemandZonal\n",
        "AllDemandZonal= DemandZonal_2017.append(DemandZonal_2018)\n",
        "AllDemandZonal= AllDemandZonal.append(DemandZonal_2019)\n",
        "#AllDemandZonal\n",
        "\n",
        "# FuelMonthly\n",
        "AllFuel= FuelMonthly_2017.append(FuelMonthly_2018)\n",
        "AllFuel= AllFuel.append(FuelMonthly_2019)\n"
      ],
      "execution_count": null,
      "outputs": []
    },
    {
      "cell_type": "code",
      "metadata": {
        "id": "swU6wMm4NuHp",
        "colab_type": "code",
        "colab": {
          "base_uri": "https://localhost:8080/",
          "height": 206
        },
        "outputId": "65b57b17-163f-43a8-df40-afcd0043f2c8"
      },
      "source": [
        "AllFuel.head()"
      ],
      "execution_count": null,
      "outputs": [
        {
          "output_type": "execute_result",
          "data": {
            "text/html": [
              "<div>\n",
              "<style scoped>\n",
              "    .dataframe tbody tr th:only-of-type {\n",
              "        vertical-align: middle;\n",
              "    }\n",
              "\n",
              "    .dataframe tbody tr th {\n",
              "        vertical-align: top;\n",
              "    }\n",
              "\n",
              "    .dataframe thead th {\n",
              "        text-align: right;\n",
              "    }\n",
              "</style>\n",
              "<table border=\"1\" class=\"dataframe\">\n",
              "  <thead>\n",
              "    <tr style=\"text-align: right;\">\n",
              "      <th></th>\n",
              "      <th>DeliveryYear</th>\n",
              "      <th>Month</th>\n",
              "      <th>Fuel</th>\n",
              "      <th>EnergyGW</th>\n",
              "    </tr>\n",
              "  </thead>\n",
              "  <tbody>\n",
              "    <tr>\n",
              "      <th>0</th>\n",
              "      <td>2017</td>\n",
              "      <td>January</td>\n",
              "      <td>NUCLEAR</td>\n",
              "      <td>8387.85</td>\n",
              "    </tr>\n",
              "    <tr>\n",
              "      <th>1</th>\n",
              "      <td>2017</td>\n",
              "      <td>January</td>\n",
              "      <td>GAS</td>\n",
              "      <td>554.10</td>\n",
              "    </tr>\n",
              "    <tr>\n",
              "      <th>2</th>\n",
              "      <td>2017</td>\n",
              "      <td>January</td>\n",
              "      <td>HYDRO</td>\n",
              "      <td>3231.18</td>\n",
              "    </tr>\n",
              "    <tr>\n",
              "      <th>3</th>\n",
              "      <td>2017</td>\n",
              "      <td>January</td>\n",
              "      <td>WIND</td>\n",
              "      <td>1045.20</td>\n",
              "    </tr>\n",
              "    <tr>\n",
              "      <th>4</th>\n",
              "      <td>2017</td>\n",
              "      <td>January</td>\n",
              "      <td>SOLAR</td>\n",
              "      <td>17.66</td>\n",
              "    </tr>\n",
              "  </tbody>\n",
              "</table>\n",
              "</div>"
            ],
            "text/plain": [
              "   DeliveryYear    Month     Fuel  EnergyGW\n",
              "0          2017  January  NUCLEAR   8387.85\n",
              "1          2017  January      GAS    554.10\n",
              "2          2017  January    HYDRO   3231.18\n",
              "3          2017  January     WIND   1045.20\n",
              "4          2017  January    SOLAR     17.66"
            ]
          },
          "metadata": {
            "tags": []
          },
          "execution_count": 32
        }
      ]
    },
    {
      "cell_type": "code",
      "metadata": {
        "id": "DhvEKVw_NxWC",
        "colab_type": "code",
        "colab": {
          "base_uri": "https://localhost:8080/",
          "height": 206
        },
        "outputId": "c8947507-eebe-4740-acc7-6248f15d1e3d"
      },
      "source": [
        "AllDemandZonal.head()"
      ],
      "execution_count": null,
      "outputs": [
        {
          "output_type": "execute_result",
          "data": {
            "text/html": [
              "<div>\n",
              "<style scoped>\n",
              "    .dataframe tbody tr th:only-of-type {\n",
              "        vertical-align: middle;\n",
              "    }\n",
              "\n",
              "    .dataframe tbody tr th {\n",
              "        vertical-align: top;\n",
              "    }\n",
              "\n",
              "    .dataframe thead th {\n",
              "        text-align: right;\n",
              "    }\n",
              "</style>\n",
              "<table border=\"1\" class=\"dataframe\">\n",
              "  <thead>\n",
              "    <tr style=\"text-align: right;\">\n",
              "      <th></th>\n",
              "      <th>Date</th>\n",
              "      <th>Hour</th>\n",
              "      <th>Ontario Demand</th>\n",
              "      <th>Northwest</th>\n",
              "      <th>Northeast</th>\n",
              "      <th>Ottawa</th>\n",
              "      <th>East</th>\n",
              "      <th>Toronto</th>\n",
              "      <th>Essa</th>\n",
              "      <th>Bruce</th>\n",
              "      <th>Southwest</th>\n",
              "      <th>Niagara</th>\n",
              "      <th>West</th>\n",
              "      <th>Zone Total</th>\n",
              "      <th>Diff</th>\n",
              "    </tr>\n",
              "  </thead>\n",
              "  <tbody>\n",
              "    <tr>\n",
              "      <th>0</th>\n",
              "      <td>2017-01-01</td>\n",
              "      <td>1</td>\n",
              "      <td>13522</td>\n",
              "      <td>495</td>\n",
              "      <td>1476</td>\n",
              "      <td>1051</td>\n",
              "      <td>1203</td>\n",
              "      <td>5665</td>\n",
              "      <td>1045</td>\n",
              "      <td>72</td>\n",
              "      <td>2986</td>\n",
              "      <td>465</td>\n",
              "      <td>1334</td>\n",
              "      <td>15790</td>\n",
              "      <td>2,268</td>\n",
              "    </tr>\n",
              "    <tr>\n",
              "      <th>1</th>\n",
              "      <td>2017-01-01</td>\n",
              "      <td>2</td>\n",
              "      <td>13117</td>\n",
              "      <td>495</td>\n",
              "      <td>1476</td>\n",
              "      <td>1051</td>\n",
              "      <td>1203</td>\n",
              "      <td>5665</td>\n",
              "      <td>1045</td>\n",
              "      <td>72</td>\n",
              "      <td>2986</td>\n",
              "      <td>465</td>\n",
              "      <td>1334</td>\n",
              "      <td>15790</td>\n",
              "      <td>2,673</td>\n",
              "    </tr>\n",
              "    <tr>\n",
              "      <th>2</th>\n",
              "      <td>2017-01-01</td>\n",
              "      <td>3</td>\n",
              "      <td>12816</td>\n",
              "      <td>495</td>\n",
              "      <td>1476</td>\n",
              "      <td>1051</td>\n",
              "      <td>1203</td>\n",
              "      <td>5665</td>\n",
              "      <td>1045</td>\n",
              "      <td>72</td>\n",
              "      <td>2986</td>\n",
              "      <td>465</td>\n",
              "      <td>1334</td>\n",
              "      <td>15790</td>\n",
              "      <td>2,974</td>\n",
              "    </tr>\n",
              "    <tr>\n",
              "      <th>3</th>\n",
              "      <td>2017-01-01</td>\n",
              "      <td>4</td>\n",
              "      <td>12605</td>\n",
              "      <td>495</td>\n",
              "      <td>1476</td>\n",
              "      <td>1051</td>\n",
              "      <td>1203</td>\n",
              "      <td>5665</td>\n",
              "      <td>1045</td>\n",
              "      <td>72</td>\n",
              "      <td>2986</td>\n",
              "      <td>465</td>\n",
              "      <td>1334</td>\n",
              "      <td>15790</td>\n",
              "      <td>3,186</td>\n",
              "    </tr>\n",
              "    <tr>\n",
              "      <th>4</th>\n",
              "      <td>2017-01-01</td>\n",
              "      <td>5</td>\n",
              "      <td>12563</td>\n",
              "      <td>495</td>\n",
              "      <td>1476</td>\n",
              "      <td>1051</td>\n",
              "      <td>1203</td>\n",
              "      <td>5665</td>\n",
              "      <td>1045</td>\n",
              "      <td>72</td>\n",
              "      <td>2986</td>\n",
              "      <td>465</td>\n",
              "      <td>1334</td>\n",
              "      <td>15790</td>\n",
              "      <td>3,227</td>\n",
              "    </tr>\n",
              "  </tbody>\n",
              "</table>\n",
              "</div>"
            ],
            "text/plain": [
              "        Date  Hour  Ontario Demand  Northwest  ...  Niagara  West  Zone Total   Diff\n",
              "0 2017-01-01     1           13522        495  ...      465  1334       15790  2,268\n",
              "1 2017-01-01     2           13117        495  ...      465  1334       15790  2,673\n",
              "2 2017-01-01     3           12816        495  ...      465  1334       15790  2,974\n",
              "3 2017-01-01     4           12605        495  ...      465  1334       15790  3,186\n",
              "4 2017-01-01     5           12563        495  ...      465  1334       15790  3,227\n",
              "\n",
              "[5 rows x 15 columns]"
            ]
          },
          "metadata": {
            "tags": []
          },
          "execution_count": 33
        }
      ]
    },
    {
      "cell_type": "code",
      "metadata": {
        "id": "4c3tK8bBN202",
        "colab_type": "code",
        "colab": {
          "base_uri": "https://localhost:8080/",
          "height": 226
        },
        "outputId": "ea3659b7-78d2-4404-d118-0d566615eb98"
      },
      "source": [
        "AllIndustry.head()"
      ],
      "execution_count": null,
      "outputs": [
        {
          "output_type": "execute_result",
          "data": {
            "text/html": [
              "<div>\n",
              "<style scoped>\n",
              "    .dataframe tbody tr th:only-of-type {\n",
              "        vertical-align: middle;\n",
              "    }\n",
              "\n",
              "    .dataframe tbody tr th {\n",
              "        vertical-align: top;\n",
              "    }\n",
              "\n",
              "    .dataframe thead th {\n",
              "        text-align: right;\n",
              "    }\n",
              "</style>\n",
              "<table border=\"1\" class=\"dataframe\">\n",
              "  <thead>\n",
              "    <tr style=\"text-align: right;\">\n",
              "      <th></th>\n",
              "      <th>DeliveryDate</th>\n",
              "      <th>Hour</th>\n",
              "      <th>QtyIronSteel</th>\n",
              "      <th>QtyMetalOre</th>\n",
              "      <th>QtyMotorVehicle</th>\n",
              "      <th>QtyPetroCoal</th>\n",
              "      <th>QtyPulpPaper</th>\n",
              "      <th>QtyOtherIndstr</th>\n",
              "      <th>QtyManufactr</th>\n",
              "      <th>QtyElecPower</th>\n",
              "      <th>QtyLdc</th>\n",
              "      <th>QtyDirectConnect</th>\n",
              "    </tr>\n",
              "  </thead>\n",
              "  <tbody>\n",
              "    <tr>\n",
              "      <th>0</th>\n",
              "      <td>2017-01-01</td>\n",
              "      <td>1</td>\n",
              "      <td>284</td>\n",
              "      <td>580</td>\n",
              "      <td>48</td>\n",
              "      <td>140</td>\n",
              "      <td>187</td>\n",
              "      <td>101</td>\n",
              "      <td>293</td>\n",
              "      <td>255</td>\n",
              "      <td>11,313</td>\n",
              "      <td>12,960</td>\n",
              "    </tr>\n",
              "    <tr>\n",
              "      <th>1</th>\n",
              "      <td>2017-01-01</td>\n",
              "      <td>2</td>\n",
              "      <td>325</td>\n",
              "      <td>591</td>\n",
              "      <td>48</td>\n",
              "      <td>140</td>\n",
              "      <td>192</td>\n",
              "      <td>100</td>\n",
              "      <td>296</td>\n",
              "      <td>254</td>\n",
              "      <td>10,916</td>\n",
              "      <td>12,625</td>\n",
              "    </tr>\n",
              "    <tr>\n",
              "      <th>2</th>\n",
              "      <td>2017-01-01</td>\n",
              "      <td>3</td>\n",
              "      <td>330</td>\n",
              "      <td>569</td>\n",
              "      <td>48</td>\n",
              "      <td>140</td>\n",
              "      <td>193</td>\n",
              "      <td>101</td>\n",
              "      <td>296</td>\n",
              "      <td>251</td>\n",
              "      <td>10,561</td>\n",
              "      <td>12,251</td>\n",
              "    </tr>\n",
              "    <tr>\n",
              "      <th>3</th>\n",
              "      <td>2017-01-01</td>\n",
              "      <td>4</td>\n",
              "      <td>356</td>\n",
              "      <td>584</td>\n",
              "      <td>48</td>\n",
              "      <td>140</td>\n",
              "      <td>196</td>\n",
              "      <td>101</td>\n",
              "      <td>298</td>\n",
              "      <td>250</td>\n",
              "      <td>10,314</td>\n",
              "      <td>12,050</td>\n",
              "    </tr>\n",
              "    <tr>\n",
              "      <th>4</th>\n",
              "      <td>2017-01-01</td>\n",
              "      <td>5</td>\n",
              "      <td>321</td>\n",
              "      <td>590</td>\n",
              "      <td>48</td>\n",
              "      <td>140</td>\n",
              "      <td>195</td>\n",
              "      <td>102</td>\n",
              "      <td>298</td>\n",
              "      <td>251</td>\n",
              "      <td>10,234</td>\n",
              "      <td>11,941</td>\n",
              "    </tr>\n",
              "  </tbody>\n",
              "</table>\n",
              "</div>"
            ],
            "text/plain": [
              "  DeliveryDate  Hour  QtyIronSteel  ...  QtyElecPower  QtyLdc  QtyDirectConnect\n",
              "0   2017-01-01     1           284  ...           255  11,313            12,960\n",
              "1   2017-01-01     2           325  ...           254  10,916            12,625\n",
              "2   2017-01-01     3           330  ...           251  10,561            12,251\n",
              "3   2017-01-01     4           356  ...           250  10,314            12,050\n",
              "4   2017-01-01     5           321  ...           251  10,234            11,941\n",
              "\n",
              "[5 rows x 12 columns]"
            ]
          },
          "metadata": {
            "tags": []
          },
          "execution_count": 34
        }
      ]
    },
    {
      "cell_type": "code",
      "metadata": {
        "id": "Y6VVPrnhN6Kt",
        "colab_type": "code",
        "colab": {
          "base_uri": "https://localhost:8080/",
          "height": 206
        },
        "outputId": "a2b97230-ed0e-4b7b-ef66-256163a6822c"
      },
      "source": [
        "AllSupply.head()"
      ],
      "execution_count": null,
      "outputs": [
        {
          "output_type": "execute_result",
          "data": {
            "text/html": [
              "<div>\n",
              "<style scoped>\n",
              "    .dataframe tbody tr th:only-of-type {\n",
              "        vertical-align: middle;\n",
              "    }\n",
              "\n",
              "    .dataframe tbody tr th {\n",
              "        vertical-align: top;\n",
              "    }\n",
              "\n",
              "    .dataframe thead th {\n",
              "        text-align: right;\n",
              "    }\n",
              "</style>\n",
              "<table border=\"1\" class=\"dataframe\">\n",
              "  <thead>\n",
              "    <tr style=\"text-align: right;\">\n",
              "      <th></th>\n",
              "      <th>Date</th>\n",
              "      <th>Hour</th>\n",
              "      <th>NUCLEAR</th>\n",
              "      <th>GAS</th>\n",
              "      <th>HYDRO</th>\n",
              "      <th>WIND</th>\n",
              "      <th>SOLAR</th>\n",
              "      <th>BIOFUEL</th>\n",
              "      <th>Total Output</th>\n",
              "    </tr>\n",
              "  </thead>\n",
              "  <tbody>\n",
              "    <tr>\n",
              "      <th>0</th>\n",
              "      <td>2017-01-01</td>\n",
              "      <td>1</td>\n",
              "      <td>11592</td>\n",
              "      <td>234</td>\n",
              "      <td>2455</td>\n",
              "      <td>2433</td>\n",
              "      <td>0</td>\n",
              "      <td>1</td>\n",
              "      <td>16715</td>\n",
              "    </tr>\n",
              "    <tr>\n",
              "      <th>1</th>\n",
              "      <td>2017-01-01</td>\n",
              "      <td>2</td>\n",
              "      <td>11591</td>\n",
              "      <td>235</td>\n",
              "      <td>2523</td>\n",
              "      <td>1994</td>\n",
              "      <td>0</td>\n",
              "      <td>1</td>\n",
              "      <td>16344</td>\n",
              "    </tr>\n",
              "    <tr>\n",
              "      <th>2</th>\n",
              "      <td>2017-01-01</td>\n",
              "      <td>3</td>\n",
              "      <td>11596</td>\n",
              "      <td>234</td>\n",
              "      <td>2464</td>\n",
              "      <td>1647</td>\n",
              "      <td>0</td>\n",
              "      <td>1</td>\n",
              "      <td>15942</td>\n",
              "    </tr>\n",
              "    <tr>\n",
              "      <th>3</th>\n",
              "      <td>2017-01-01</td>\n",
              "      <td>4</td>\n",
              "      <td>11610</td>\n",
              "      <td>236</td>\n",
              "      <td>2494</td>\n",
              "      <td>1386</td>\n",
              "      <td>0</td>\n",
              "      <td>1</td>\n",
              "      <td>15727</td>\n",
              "    </tr>\n",
              "    <tr>\n",
              "      <th>4</th>\n",
              "      <td>2017-01-01</td>\n",
              "      <td>5</td>\n",
              "      <td>11611</td>\n",
              "      <td>235</td>\n",
              "      <td>2476</td>\n",
              "      <td>1330</td>\n",
              "      <td>0</td>\n",
              "      <td>1</td>\n",
              "      <td>15653</td>\n",
              "    </tr>\n",
              "  </tbody>\n",
              "</table>\n",
              "</div>"
            ],
            "text/plain": [
              "        Date  Hour  NUCLEAR  GAS  HYDRO  WIND  SOLAR  BIOFUEL  Total Output\n",
              "0 2017-01-01     1    11592  234   2455  2433      0        1         16715\n",
              "1 2017-01-01     2    11591  235   2523  1994      0        1         16344\n",
              "2 2017-01-01     3    11596  234   2464  1647      0        1         15942\n",
              "3 2017-01-01     4    11610  236   2494  1386      0        1         15727\n",
              "4 2017-01-01     5    11611  235   2476  1330      0        1         15653"
            ]
          },
          "metadata": {
            "tags": []
          },
          "execution_count": 35
        }
      ]
    },
    {
      "cell_type": "code",
      "metadata": {
        "id": "eo2qQkCiN93L",
        "colab_type": "code",
        "colab": {
          "base_uri": "https://localhost:8080/",
          "height": 206
        },
        "outputId": "eaeea892-4639-4c1a-8d0d-d6fe1d493eab"
      },
      "source": [
        "AllDemand.head()"
      ],
      "execution_count": null,
      "outputs": [
        {
          "output_type": "execute_result",
          "data": {
            "text/html": [
              "<div>\n",
              "<style scoped>\n",
              "    .dataframe tbody tr th:only-of-type {\n",
              "        vertical-align: middle;\n",
              "    }\n",
              "\n",
              "    .dataframe tbody tr th {\n",
              "        vertical-align: top;\n",
              "    }\n",
              "\n",
              "    .dataframe thead th {\n",
              "        text-align: right;\n",
              "    }\n",
              "</style>\n",
              "<table border=\"1\" class=\"dataframe\">\n",
              "  <thead>\n",
              "    <tr style=\"text-align: right;\">\n",
              "      <th></th>\n",
              "      <th>Date</th>\n",
              "      <th>Hour</th>\n",
              "      <th>Market Demand</th>\n",
              "      <th>Ontario Demand</th>\n",
              "    </tr>\n",
              "  </thead>\n",
              "  <tbody>\n",
              "    <tr>\n",
              "      <th>0</th>\n",
              "      <td>2017-01-01</td>\n",
              "      <td>1</td>\n",
              "      <td>17172</td>\n",
              "      <td>13522</td>\n",
              "    </tr>\n",
              "    <tr>\n",
              "      <th>1</th>\n",
              "      <td>2017-01-01</td>\n",
              "      <td>2</td>\n",
              "      <td>16757</td>\n",
              "      <td>13117</td>\n",
              "    </tr>\n",
              "    <tr>\n",
              "      <th>2</th>\n",
              "      <td>2017-01-01</td>\n",
              "      <td>3</td>\n",
              "      <td>16370</td>\n",
              "      <td>12816</td>\n",
              "    </tr>\n",
              "    <tr>\n",
              "      <th>3</th>\n",
              "      <td>2017-01-01</td>\n",
              "      <td>4</td>\n",
              "      <td>16075</td>\n",
              "      <td>12605</td>\n",
              "    </tr>\n",
              "    <tr>\n",
              "      <th>4</th>\n",
              "      <td>2017-01-01</td>\n",
              "      <td>5</td>\n",
              "      <td>16050</td>\n",
              "      <td>12563</td>\n",
              "    </tr>\n",
              "  </tbody>\n",
              "</table>\n",
              "</div>"
            ],
            "text/plain": [
              "        Date  Hour  Market Demand  Ontario Demand\n",
              "0 2017-01-01     1          17172           13522\n",
              "1 2017-01-01     2          16757           13117\n",
              "2 2017-01-01     3          16370           12816\n",
              "3 2017-01-01     4          16075           12605\n",
              "4 2017-01-01     5          16050           12563"
            ]
          },
          "metadata": {
            "tags": []
          },
          "execution_count": 36
        }
      ]
    },
    {
      "cell_type": "markdown",
      "metadata": {
        "id": "B_WnI2lGpebT",
        "colab_type": "text"
      },
      "source": [
        "##4. Feature Engineering\n",
        "\n"
      ]
    },
    {
      "cell_type": "markdown",
      "metadata": {
        "id": "rRXPNN1mHxhj",
        "colab_type": "text"
      },
      "source": [
        "Adding some featurs to the dataset"
      ]
    },
    {
      "cell_type": "code",
      "metadata": {
        "id": "u4AL1FEGlhBA",
        "colab_type": "code",
        "colab": {}
      },
      "source": [
        "# Add Day & Month\n",
        "# Demand\n",
        "AllDemand['Date'] = pd.to_datetime(AllDemand['Date']) \n",
        "AllDemand['Day'] = AllDemand['Date'].dt.day_name() \n",
        "AllDemand['Month'] = pd.DatetimeIndex(AllDemand['Date']).month \n",
        "AllDemand['Month'] = AllDemand['Month'].apply(lambda x: calendar.month_abbr[x])\n",
        "\n",
        "# Supply\n",
        "AllSupply['Date'] = pd.to_datetime(AllSupply['Date']) \n",
        "AllSupply['Day'] = AllSupply['Date'].dt.day_name()\n",
        "AllSupply['Month'] = pd.DatetimeIndex(AllSupply['Date']).month \n",
        "AllSupply['Month'] = AllSupply['Month'].apply(lambda x: calendar.month_abbr[x])\n",
        "\n",
        "#Industry\n",
        "AllIndustry['DeliveryDate'] = pd.to_datetime(AllIndustry['DeliveryDate']) \n",
        "AllIndustry['Day'] = AllIndustry['DeliveryDate'].dt.day_name()\n",
        "AllIndustry['Month'] = pd.DatetimeIndex(AllIndustry['DeliveryDate']).month \n",
        "AllIndustry['Month'] = AllIndustry['Month'].apply(lambda x: calendar.month_abbr[x])\n",
        "\n",
        "# DemandZonal\n",
        "AllDemandZonal['Date'] = pd.to_datetime(AllDemandZonal['Date']) \n",
        "AllDemandZonal['Day'] = AllDemandZonal['Date'].dt.day_name()\n",
        "AllDemandZonal['Month'] = pd.DatetimeIndex(AllDemandZonal['Date']).month \n",
        "AllDemandZonal['Month'] = AllDemandZonal['Month'].apply(lambda x: calendar.month_abbr[x])\n"
      ],
      "execution_count": null,
      "outputs": []
    },
    {
      "cell_type": "code",
      "metadata": {
        "id": "FYiWXxfxIcL1",
        "colab_type": "code",
        "colab": {}
      },
      "source": [
        "#Add Index\n",
        "AllDemand.set_index(['Date'], inplace=True)\n",
        "AllSupply.set_index(['Date'], inplace=True)\n",
        "AllIndustry.set_index(['DeliveryDate'], inplace=True)\n",
        "AllDemandZonal.set_index(['Date'], inplace=True)"
      ],
      "execution_count": null,
      "outputs": []
    },
    {
      "cell_type": "code",
      "metadata": {
        "id": "M5z5pq_Ae0zL",
        "colab_type": "code",
        "colab": {
          "base_uri": "https://localhost:8080/",
          "height": 450
        },
        "outputId": "8b6a4227-79cb-4d42-9733-5e37d1a7f4d4"
      },
      "source": [
        "# Keeping the main Columns\n",
        "\n",
        "Demand = AllDemand [['Ontario Demand','Market Demand']]\n",
        "Demand"
      ],
      "execution_count": 194,
      "outputs": [
        {
          "output_type": "execute_result",
          "data": {
            "text/html": [
              "<div>\n",
              "<style scoped>\n",
              "    .dataframe tbody tr th:only-of-type {\n",
              "        vertical-align: middle;\n",
              "    }\n",
              "\n",
              "    .dataframe tbody tr th {\n",
              "        vertical-align: top;\n",
              "    }\n",
              "\n",
              "    .dataframe thead th {\n",
              "        text-align: right;\n",
              "    }\n",
              "</style>\n",
              "<table border=\"1\" class=\"dataframe\">\n",
              "  <thead>\n",
              "    <tr style=\"text-align: right;\">\n",
              "      <th></th>\n",
              "      <th>Ontario Demand</th>\n",
              "      <th>Market Demand</th>\n",
              "    </tr>\n",
              "    <tr>\n",
              "      <th>Date</th>\n",
              "      <th></th>\n",
              "      <th></th>\n",
              "    </tr>\n",
              "  </thead>\n",
              "  <tbody>\n",
              "    <tr>\n",
              "      <th>2017-01-01</th>\n",
              "      <td>13522</td>\n",
              "      <td>17172</td>\n",
              "    </tr>\n",
              "    <tr>\n",
              "      <th>2017-01-01</th>\n",
              "      <td>13117</td>\n",
              "      <td>16757</td>\n",
              "    </tr>\n",
              "    <tr>\n",
              "      <th>2017-01-01</th>\n",
              "      <td>12816</td>\n",
              "      <td>16370</td>\n",
              "    </tr>\n",
              "    <tr>\n",
              "      <th>2017-01-01</th>\n",
              "      <td>12605</td>\n",
              "      <td>16075</td>\n",
              "    </tr>\n",
              "    <tr>\n",
              "      <th>2017-01-01</th>\n",
              "      <td>12563</td>\n",
              "      <td>16050</td>\n",
              "    </tr>\n",
              "    <tr>\n",
              "      <th>...</th>\n",
              "      <td>...</td>\n",
              "      <td>...</td>\n",
              "    </tr>\n",
              "    <tr>\n",
              "      <th>2019-12-31</th>\n",
              "      <td>15909</td>\n",
              "      <td>18402</td>\n",
              "    </tr>\n",
              "    <tr>\n",
              "      <th>2019-12-31</th>\n",
              "      <td>15198</td>\n",
              "      <td>17574</td>\n",
              "    </tr>\n",
              "    <tr>\n",
              "      <th>2019-12-31</th>\n",
              "      <td>14678</td>\n",
              "      <td>16872</td>\n",
              "    </tr>\n",
              "    <tr>\n",
              "      <th>2019-12-31</th>\n",
              "      <td>14136</td>\n",
              "      <td>16562</td>\n",
              "    </tr>\n",
              "    <tr>\n",
              "      <th>2019-12-31</th>\n",
              "      <td>13578</td>\n",
              "      <td>16527</td>\n",
              "    </tr>\n",
              "  </tbody>\n",
              "</table>\n",
              "<p>26280 rows × 2 columns</p>\n",
              "</div>"
            ],
            "text/plain": [
              "            Ontario Demand  Market Demand\n",
              "Date                                     \n",
              "2017-01-01           13522          17172\n",
              "2017-01-01           13117          16757\n",
              "2017-01-01           12816          16370\n",
              "2017-01-01           12605          16075\n",
              "2017-01-01           12563          16050\n",
              "...                    ...            ...\n",
              "2019-12-31           15909          18402\n",
              "2019-12-31           15198          17574\n",
              "2019-12-31           14678          16872\n",
              "2019-12-31           14136          16562\n",
              "2019-12-31           13578          16527\n",
              "\n",
              "[26280 rows x 2 columns]"
            ]
          },
          "metadata": {
            "tags": []
          },
          "execution_count": 194
        }
      ]
    },
    {
      "cell_type": "markdown",
      "metadata": {
        "id": "ZMo8lls5E3U8",
        "colab_type": "text"
      },
      "source": [
        "##5. Data Visualisation"
      ]
    },
    {
      "cell_type": "markdown",
      "metadata": {
        "id": "UohWEjTGN3lB",
        "colab_type": "text"
      },
      "source": [
        "**Exploratory Analysis**\n",
        "Since the frequency currently is in the hourly level, this will make it difficult to visualise. So we will resample it and aggregate it to a daily/weekly and monthly level."
      ]
    },
    {
      "cell_type": "code",
      "metadata": {
        "id": "owjM4FBC_npC",
        "colab_type": "code",
        "colab": {
          "base_uri": "https://localhost:8080/",
          "height": 426
        },
        "outputId": "a97bd304-7987-4e31-e9b9-41e9c3ea1bb4"
      },
      "source": [
        "MonthlyDemand = AllDemand.resample(rule='M').sum()\n",
        "MonthlyDemand = MonthlyDemand.asfreq('M')\n",
        "MonthlyDemand['Ontario Demand'].plot();\n",
        "MonthlyDemand['Market Demand'].plot();"
      ],
      "execution_count": null,
      "outputs": [
        {
          "output_type": "display_data",
          "data": {
            "image/png": "[encoded data removed]",
            "text/plain": [
              "<Figure size 1152x432 with 1 Axes>"
            ]
          },
          "metadata": {
            "tags": []
          }
        }
      ]
    },
    {
      "cell_type": "code",
      "metadata": {
        "id": "UBejA9tVNDZs",
        "colab_type": "code",
        "colab": {
          "base_uri": "https://localhost:8080/",
          "height": 378
        },
        "outputId": "1d21c09f-a623-4c01-e12f-7cc80a11798a"
      },
      "source": [
        "y2=AllDemand['Ontario Demand']\n",
        "y3= AllDemand['Market Demand']\n",
        "x= MonthlyDemand\n",
        "plt.plot(y2,label=' Demand')\n",
        "plt.plot(y3,label=' Supply')\n",
        "\n",
        "# use parameter bbox_to_anchor to reposition\n",
        "# the legend box outside the plot area\n",
        "plt.gca().legend(loc='center left', bbox_to_anchor=(1, 0.5))\n",
        "\n",
        "plt.show()"
      ],
      "execution_count": null,
      "outputs": [
        {
          "output_type": "display_data",
          "data": {
            "image/png": "[encoded data removed]",
            "text/plain": [
              "<Figure size 1152x432 with 1 Axes>"
            ]
          },
          "metadata": {
            "tags": []
          }
        }
      ]
    },
    {
      "cell_type": "markdown",
      "metadata": {
        "id": "AL6u03iuWuvO",
        "colab_type": "text"
      },
      "source": [
        "As it is clear in the plot, the Electricity consumption has the highest usage in Jan/Dec.This might be due to several factors, the most obvious being new year and more electricity demand. Another major factor is the correlation between general weather condition and electricity usage. Extreme High and cold temperatures encourage more electricity usage as office buildings and homes require cooling and heating.\n"
      ]
    },
    {
      "cell_type": "markdown",
      "metadata": {
        "id": "IFXtpzGQOrQi",
        "colab_type": "text"
      },
      "source": [
        "**Data Visualisation**\n",
        "We can see the pattern in data- electricity usage seem to be very seasonal and repetitive. This makes sense, it migh be due to weather patterns,  holidays, weekends etc.\n",
        "Furthermore, you can see the trend of the data seems to be trailing upwards in the last few years."
      ]
    },
    {
      "cell_type": "code",
      "metadata": {
        "id": "Km2kSKMV8Lmm",
        "colab_type": "code",
        "colab": {}
      },
      "source": [
        "from statsmodels.tsa.seasonal import seasonal_decompose\n",
        "from matplotlib.dates import DateFormatter"
      ],
      "execution_count": null,
      "outputs": []
    },
    {
      "cell_type": "markdown",
      "metadata": {
        "id": "4-awe11cOvOh",
        "colab_type": "text"
      },
      "source": [
        ""
      ]
    },
    {
      "cell_type": "code",
      "metadata": {
        "id": "i_bRaXNO8ObV",
        "colab_type": "code",
        "colab": {}
      },
      "source": [
        "weekly_data = Ontario_Demand.resample(rule='W').sum()\n",
        "decomposition = seasonal_decompose(weekly_data, model='additive') # Aggregate to weekly level\n",
        "\n",
        "fig = decomposition.plot()\n",
        "plt.show()"
      ],
      "execution_count": null,
      "outputs": []
    },
    {
      "cell_type": "markdown",
      "metadata": {
        "id": "dTf4lN_XFEW-",
        "colab_type": "text"
      },
      "source": [
        "## 6. Designing Models"
      ]
    },
    {
      "cell_type": "markdown",
      "metadata": {
        "id": "u_Kka0u-FNHu",
        "colab_type": "text"
      },
      "source": [
        "###6.1. XGBoost\n",
        "\n"
      ]
    },
    {
      "cell_type": "markdown",
      "metadata": {
        "id": "-6RaSDGkFSwr",
        "colab_type": "text"
      },
      "source": [
        "####Train & Test Split\n"
      ]
    },
    {
      "cell_type": "code",
      "metadata": {
        "id": "G8q6RiDNXxfz",
        "colab_type": "code",
        "colab": {}
      },
      "source": [
        "split_date = '31-Dec-2018'\n",
        "Supply_train = Demand.loc[Demand.index <= split_date].copy() #changed from df_norm\n",
        "Supply_test = Demand.loc[Demand.index > split_date].copy() #changed from df_norm"
      ],
      "execution_count": 198,
      "outputs": []
    },
    {
      "cell_type": "code",
      "metadata": {
        "id": "5gYkTGKSX-1w",
        "colab_type": "code",
        "colab": {
          "base_uri": "https://localhost:8080/",
          "height": 68
        },
        "outputId": "a20e7d9e-61ea-4bd4-8828-568cfa549833"
      },
      "source": [
        "print(Demand.shape)\n",
        "print(Supply_train.shape)\n",
        "print(Supply_test.shape)"
      ],
      "execution_count": 199,
      "outputs": [
        {
          "output_type": "stream",
          "text": [
            "(26280, 2)\n",
            "(17520, 2)\n",
            "(8760, 2)\n"
          ],
          "name": "stdout"
        }
      ]
    },
    {
      "cell_type": "code",
      "metadata": {
        "id": "zmcpmOhEdeur",
        "colab_type": "code",
        "colab": {
          "base_uri": "https://localhost:8080/",
          "height": 376
        },
        "outputId": "f6fd07cb-4e1f-4cb8-98f7-aa547cd05eeb"
      },
      "source": [
        "fig,ax = plt.subplots(figsize=(15,5))\n",
        "\n",
        "coloring = 30000\n",
        "\n",
        "plt.plot(Supply_train.index,Supply_train[\"Market Demand\"],color=\"blue\", alpha=0.75)\n",
        "plt.fill_between(Supply_train.index,coloring, facecolor=\"blue\", alpha=0.2)\n",
        "\n",
        "plt.plot(Supply_test.index,Supply_test[\"Market Demand\"], color = \"red\", alpha=0.60)\n",
        "plt.fill_between(Supply_test.index,coloring, facecolor=\"red\", alpha=0.2)\n",
        "\n",
        "plt.xlabel(\"Date\", alpha=0.75, weight=\"bold\")\n",
        "plt.ylabel(\"Supply\", alpha=0.75, weight=\"bold\")\n",
        "\n",
        "plt.xticks(alpha=0.75,weight=\"bold\", fontsize=11)\n",
        "plt.yticks(alpha=0.75,weight=\"bold\", fontsize=11)\n",
        "\n",
        "plt.title(\"Train - Test Split\", alpha=0.75, weight=\"bold\", fontsize=15, pad=10, loc=\"left\")"
      ],
      "execution_count": 200,
      "outputs": [
        {
          "output_type": "execute_result",
          "data": {
            "text/plain": [
              "Text(0.0, 1.0, 'Train - Test Split')"
            ]
          },
          "metadata": {
            "tags": []
          },
          "execution_count": 200
        },
        {
          "output_type": "display_data",
          "data": {
            "image/png": "[encoded data removed]",
            "text/plain": [
              "<Figure size 1080x360 with 1 Axes>"
            ]
          },
          "metadata": {
            "tags": []
          }
        }
      ]
    },
    {
      "cell_type": "code",
      "metadata": {
        "id": "qIjUL4G8YYWf",
        "colab_type": "code",
        "colab": {}
      },
      "source": [
        "#Train - Test\n",
        "X_train = Supply_train.drop(\"Market Demand\", axis=1) \n",
        "y_train = Supply_train[\"Market Demand\"]\n",
        "X_test = Supply_test.drop(\"Market Demand\", axis=1)\n",
        "y_test = Supply_test[\"Market Demand\"]"
      ],
      "execution_count": 201,
      "outputs": []
    },
    {
      "cell_type": "markdown",
      "metadata": {
        "id": "dKUD1APvFXh7",
        "colab_type": "text"
      },
      "source": [
        "####Creating XGBoost model"
      ]
    },
    {
      "cell_type": "code",
      "metadata": {
        "id": "hMIux45see3z",
        "colab_type": "code",
        "colab": {
          "base_uri": "https://localhost:8080/",
          "height": 153
        },
        "outputId": "9a0f64c0-9ee7-4b6c-d508-5a03b747d02d"
      },
      "source": [
        "import xgboost as xgb\n",
        "xgd_reg = xgb.XGBRegressor(n_estimators=1000)\n",
        "\n",
        "xgd_reg.fit(X_train,y_train,\n",
        "           eval_set=[(X_train,y_train),(X_test,y_test)],\n",
        "           early_stopping_rounds=50,\n",
        "           verbose=False)"
      ],
      "execution_count": 274,
      "outputs": [
        {
          "output_type": "stream",
          "text": [
            "[06:05:58] WARNING: /workspace/src/objective/regression_obj.cu:152: reg:linear is now deprecated in favor of reg:squarederror.\n"
          ],
          "name": "stdout"
        },
        {
          "output_type": "execute_result",
          "data": {
            "text/plain": [
              "XGBRegressor(base_score=0.5, booster='gbtree', colsample_bylevel=1,\n",
              "             colsample_bynode=1, colsample_bytree=1, gamma=0,\n",
              "             importance_type='gain', learning_rate=0.1, max_delta_step=0,\n",
              "             max_depth=3, min_child_weight=1, missing=None, n_estimators=1000,\n",
              "             n_jobs=1, nthread=None, objective='reg:linear', random_state=0,\n",
              "             reg_alpha=0, reg_lambda=1, scale_pos_weight=1, seed=None,\n",
              "             silent=None, subsample=1, verbosity=1)"
            ]
          },
          "metadata": {
            "tags": []
          },
          "execution_count": 274
        }
      ]
    },
    {
      "cell_type": "markdown",
      "metadata": {
        "id": "rE5NckXJFbG8",
        "colab_type": "text"
      },
      "source": [
        "####Prediction"
      ]
    },
    {
      "cell_type": "code",
      "metadata": {
        "id": "xDvv7B07fzPV",
        "colab_type": "code",
        "colab": {}
      },
      "source": [
        "Supply_test[\"Prediction\"] = xgd_reg.predict(X_test)"
      ],
      "execution_count": 275,
      "outputs": []
    },
    {
      "cell_type": "code",
      "metadata": {
        "id": "H3crYv7PguX_",
        "colab_type": "code",
        "colab": {
          "base_uri": "https://localhost:8080/",
          "height": 238
        },
        "outputId": "49490ada-a214-4058-e55b-351cd30c8432"
      },
      "source": [
        "print(Supply_test[\"Prediction\"])"
      ],
      "execution_count": 276,
      "outputs": [
        {
          "output_type": "stream",
          "text": [
            "Date\n",
            "2019-01-01    15486.332031\n",
            "2019-01-01    15119.996094\n",
            "2019-01-01    14875.847656\n",
            "2019-01-01    14719.686523\n",
            "2019-01-01    14719.686523\n",
            "                  ...     \n",
            "2019-12-31    17876.496094\n",
            "2019-12-31    17279.871094\n",
            "2019-12-31    16768.105469\n",
            "2019-12-31    16258.857422\n",
            "2019-12-31    15865.635742\n",
            "Name: Prediction, Length: 8760, dtype: float32\n"
          ],
          "name": "stdout"
        }
      ]
    },
    {
      "cell_type": "code",
      "metadata": {
        "id": "pC0SZCU6g12F",
        "colab_type": "code",
        "colab": {
          "base_uri": "https://localhost:8080/",
          "height": 34
        },
        "outputId": "d55a2385-a3f0-44c3-dab4-d5e2015a1ff4"
      },
      "source": [
        "data_compare1 = pd.DataFrame(Supply_test[\"Prediction\"])\n",
        "data_compare1.shape"
      ],
      "execution_count": 277,
      "outputs": [
        {
          "output_type": "execute_result",
          "data": {
            "text/plain": [
              "(8760, 1)"
            ]
          },
          "metadata": {
            "tags": []
          },
          "execution_count": 277
        }
      ]
    },
    {
      "cell_type": "code",
      "metadata": {
        "id": "GH9Q8B1om2vN",
        "colab_type": "code",
        "colab": {
          "base_uri": "https://localhost:8080/",
          "height": 419
        },
        "outputId": "58be92d1-06c2-4cc5-ac36-fb657b5ab176"
      },
      "source": [
        " data_compare2= pd.DataFrame(Demand_2019['Market Demand'])\n",
        " data_compare2.columns =['Actual']\n",
        " data_compare2['Date'] = Demand_2019['Date']\n",
        "data_compare2"
      ],
      "execution_count": 278,
      "outputs": [
        {
          "output_type": "execute_result",
          "data": {
            "text/html": [
              "<div>\n",
              "<style scoped>\n",
              "    .dataframe tbody tr th:only-of-type {\n",
              "        vertical-align: middle;\n",
              "    }\n",
              "\n",
              "    .dataframe tbody tr th {\n",
              "        vertical-align: top;\n",
              "    }\n",
              "\n",
              "    .dataframe thead th {\n",
              "        text-align: right;\n",
              "    }\n",
              "</style>\n",
              "<table border=\"1\" class=\"dataframe\">\n",
              "  <thead>\n",
              "    <tr style=\"text-align: right;\">\n",
              "      <th></th>\n",
              "      <th>Actual</th>\n",
              "      <th>Date</th>\n",
              "    </tr>\n",
              "  </thead>\n",
              "  <tbody>\n",
              "    <tr>\n",
              "      <th>0</th>\n",
              "      <td>16231</td>\n",
              "      <td>2019-01-01</td>\n",
              "    </tr>\n",
              "    <tr>\n",
              "      <th>1</th>\n",
              "      <td>16051</td>\n",
              "      <td>2019-01-01</td>\n",
              "    </tr>\n",
              "    <tr>\n",
              "      <th>2</th>\n",
              "      <td>15805</td>\n",
              "      <td>2019-01-01</td>\n",
              "    </tr>\n",
              "    <tr>\n",
              "      <th>3</th>\n",
              "      <td>15580</td>\n",
              "      <td>2019-01-01</td>\n",
              "    </tr>\n",
              "    <tr>\n",
              "      <th>4</th>\n",
              "      <td>15609</td>\n",
              "      <td>2019-01-01</td>\n",
              "    </tr>\n",
              "    <tr>\n",
              "      <th>...</th>\n",
              "      <td>...</td>\n",
              "      <td>...</td>\n",
              "    </tr>\n",
              "    <tr>\n",
              "      <th>8755</th>\n",
              "      <td>18402</td>\n",
              "      <td>2019-12-31</td>\n",
              "    </tr>\n",
              "    <tr>\n",
              "      <th>8756</th>\n",
              "      <td>17574</td>\n",
              "      <td>2019-12-31</td>\n",
              "    </tr>\n",
              "    <tr>\n",
              "      <th>8757</th>\n",
              "      <td>16872</td>\n",
              "      <td>2019-12-31</td>\n",
              "    </tr>\n",
              "    <tr>\n",
              "      <th>8758</th>\n",
              "      <td>16562</td>\n",
              "      <td>2019-12-31</td>\n",
              "    </tr>\n",
              "    <tr>\n",
              "      <th>8759</th>\n",
              "      <td>16527</td>\n",
              "      <td>2019-12-31</td>\n",
              "    </tr>\n",
              "  </tbody>\n",
              "</table>\n",
              "<p>8760 rows × 2 columns</p>\n",
              "</div>"
            ],
            "text/plain": [
              "      Actual       Date\n",
              "0      16231 2019-01-01\n",
              "1      16051 2019-01-01\n",
              "2      15805 2019-01-01\n",
              "3      15580 2019-01-01\n",
              "4      15609 2019-01-01\n",
              "...      ...        ...\n",
              "8755   18402 2019-12-31\n",
              "8756   17574 2019-12-31\n",
              "8757   16872 2019-12-31\n",
              "8758   16562 2019-12-31\n",
              "8759   16527 2019-12-31\n",
              "\n",
              "[8760 rows x 2 columns]"
            ]
          },
          "metadata": {
            "tags": []
          },
          "execution_count": 278
        }
      ]
    },
    {
      "cell_type": "code",
      "metadata": {
        "id": "6pVbN38Sq3jD",
        "colab_type": "code",
        "colab": {
          "base_uri": "https://localhost:8080/",
          "height": 419
        },
        "outputId": "d032bc0a-ef37-455a-a44e-816c312b333c"
      },
      "source": [
        "data_compare3 = pd.merge_asof(data_compare1, data_compare2,\n",
        "              on='Date')\n",
        "\n",
        "data_compare3"
      ],
      "execution_count": 279,
      "outputs": [
        {
          "output_type": "execute_result",
          "data": {
            "text/html": [
              "<div>\n",
              "<style scoped>\n",
              "    .dataframe tbody tr th:only-of-type {\n",
              "        vertical-align: middle;\n",
              "    }\n",
              "\n",
              "    .dataframe tbody tr th {\n",
              "        vertical-align: top;\n",
              "    }\n",
              "\n",
              "    .dataframe thead th {\n",
              "        text-align: right;\n",
              "    }\n",
              "</style>\n",
              "<table border=\"1\" class=\"dataframe\">\n",
              "  <thead>\n",
              "    <tr style=\"text-align: right;\">\n",
              "      <th></th>\n",
              "      <th>Date</th>\n",
              "      <th>Prediction</th>\n",
              "      <th>Actual</th>\n",
              "    </tr>\n",
              "  </thead>\n",
              "  <tbody>\n",
              "    <tr>\n",
              "      <th>0</th>\n",
              "      <td>2019-01-01</td>\n",
              "      <td>15486.332031</td>\n",
              "      <td>16656</td>\n",
              "    </tr>\n",
              "    <tr>\n",
              "      <th>1</th>\n",
              "      <td>2019-01-01</td>\n",
              "      <td>15119.996094</td>\n",
              "      <td>16656</td>\n",
              "    </tr>\n",
              "    <tr>\n",
              "      <th>2</th>\n",
              "      <td>2019-01-01</td>\n",
              "      <td>14875.847656</td>\n",
              "      <td>16656</td>\n",
              "    </tr>\n",
              "    <tr>\n",
              "      <th>3</th>\n",
              "      <td>2019-01-01</td>\n",
              "      <td>14719.686523</td>\n",
              "      <td>16656</td>\n",
              "    </tr>\n",
              "    <tr>\n",
              "      <th>4</th>\n",
              "      <td>2019-01-01</td>\n",
              "      <td>14719.686523</td>\n",
              "      <td>16656</td>\n",
              "    </tr>\n",
              "    <tr>\n",
              "      <th>...</th>\n",
              "      <td>...</td>\n",
              "      <td>...</td>\n",
              "      <td>...</td>\n",
              "    </tr>\n",
              "    <tr>\n",
              "      <th>8755</th>\n",
              "      <td>2019-12-31</td>\n",
              "      <td>17876.496094</td>\n",
              "      <td>16527</td>\n",
              "    </tr>\n",
              "    <tr>\n",
              "      <th>8756</th>\n",
              "      <td>2019-12-31</td>\n",
              "      <td>17279.871094</td>\n",
              "      <td>16527</td>\n",
              "    </tr>\n",
              "    <tr>\n",
              "      <th>8757</th>\n",
              "      <td>2019-12-31</td>\n",
              "      <td>16768.105469</td>\n",
              "      <td>16527</td>\n",
              "    </tr>\n",
              "    <tr>\n",
              "      <th>8758</th>\n",
              "      <td>2019-12-31</td>\n",
              "      <td>16258.857422</td>\n",
              "      <td>16527</td>\n",
              "    </tr>\n",
              "    <tr>\n",
              "      <th>8759</th>\n",
              "      <td>2019-12-31</td>\n",
              "      <td>15865.635742</td>\n",
              "      <td>16527</td>\n",
              "    </tr>\n",
              "  </tbody>\n",
              "</table>\n",
              "<p>8760 rows × 3 columns</p>\n",
              "</div>"
            ],
            "text/plain": [
              "           Date    Prediction  Actual\n",
              "0    2019-01-01  15486.332031   16656\n",
              "1    2019-01-01  15119.996094   16656\n",
              "2    2019-01-01  14875.847656   16656\n",
              "3    2019-01-01  14719.686523   16656\n",
              "4    2019-01-01  14719.686523   16656\n",
              "...         ...           ...     ...\n",
              "8755 2019-12-31  17876.496094   16527\n",
              "8756 2019-12-31  17279.871094   16527\n",
              "8757 2019-12-31  16768.105469   16527\n",
              "8758 2019-12-31  16258.857422   16527\n",
              "8759 2019-12-31  15865.635742   16527\n",
              "\n",
              "[8760 rows x 3 columns]"
            ]
          },
          "metadata": {
            "tags": []
          },
          "execution_count": 279
        }
      ]
    },
    {
      "cell_type": "code",
      "metadata": {
        "id": "TGMjk7vkjEv1",
        "colab_type": "code",
        "colab": {
          "base_uri": "https://localhost:8080/",
          "height": 395
        },
        "outputId": "23c3881b-1966-4179-8f82-3f51919443bb"
      },
      "source": [
        "data_compare3['Prediction'][:100].plot(legend=True)\n",
        "data_compare3['Actual'][:100].plot(legend=True)"
      ],
      "execution_count": 280,
      "outputs": [
        {
          "output_type": "execute_result",
          "data": {
            "text/plain": [
              "<matplotlib.axes._subplots.AxesSubplot at 0x7f84d3032400>"
            ]
          },
          "metadata": {
            "tags": []
          },
          "execution_count": 280
        },
        {
          "output_type": "display_data",
          "data": {
            "image/png": "[encoded data removed]",
            "text/plain": [
              "<Figure size 1152x432 with 1 Axes>"
            ]
          },
          "metadata": {
            "tags": []
          }
        }
      ]
    },
    {
      "cell_type": "markdown",
      "metadata": {
        "id": "GaX8XIxlFge8",
        "colab_type": "text"
      },
      "source": [
        "####EvaluationList item"
      ]
    },
    {
      "cell_type": "markdown",
      "metadata": {
        "id": "J_PW8m0cF9oG",
        "colab_type": "text"
      },
      "source": [
        "###6.2. RNN"
      ]
    },
    {
      "cell_type": "markdown",
      "metadata": {
        "id": "ikNzJ8JHGDRF",
        "colab_type": "text"
      },
      "source": [
        "####Train & Test Split"
      ]
    },
    {
      "cell_type": "markdown",
      "metadata": {
        "id": "0JgqjIUmGJFN",
        "colab_type": "text"
      },
      "source": [
        "####Creating RNN model"
      ]
    },
    {
      "cell_type": "markdown",
      "metadata": {
        "id": "IV4JdNDVGO30",
        "colab_type": "text"
      },
      "source": [
        "####Prediction"
      ]
    },
    {
      "cell_type": "markdown",
      "metadata": {
        "id": "-GPp8JcJGSvD",
        "colab_type": "text"
      },
      "source": [
        "####Evaluation"
      ]
    },
    {
      "cell_type": "markdown",
      "metadata": {
        "id": "BSiNKC_vGYBd",
        "colab_type": "text"
      },
      "source": [
        "###6.3. LSTM"
      ]
    },
    {
      "cell_type": "markdown",
      "metadata": {
        "id": "UUzxipWOGbzE",
        "colab_type": "text"
      },
      "source": [
        "####Train & Test Split"
      ]
    },
    {
      "cell_type": "markdown",
      "metadata": {
        "id": "y_rsOvuUGiIa",
        "colab_type": "text"
      },
      "source": [
        "####Creating LSTM model"
      ]
    },
    {
      "cell_type": "markdown",
      "metadata": {
        "id": "Dh68HKZ2GpDV",
        "colab_type": "text"
      },
      "source": [
        "####Prediction"
      ]
    },
    {
      "cell_type": "markdown",
      "metadata": {
        "id": "j8fcwvehGsLj",
        "colab_type": "text"
      },
      "source": [
        "####Evaluation"
      ]
    },
    {
      "cell_type": "markdown",
      "metadata": {
        "id": "9VJNmaG6G1Wc",
        "colab_type": "text"
      },
      "source": [
        "##7. Evaluating Final Models"
      ]
    }
  ]
}