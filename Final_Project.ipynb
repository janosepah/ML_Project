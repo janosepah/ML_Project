{
  "nbformat": 4,
  "nbformat_minor": 0,
  "metadata": {
    "colab": {
      "name": "Final Project.ipynb",
      "provenance": [],
      "collapsed_sections": [],
      "include_colab_link": true
    },
    "kernelspec": {
      "name": "python3",
      "display_name": "Python 3"
    }
  },
  "cells": [
    {
      "cell_type": "markdown",
      "metadata": {
        "id": "view-in-github",
        "colab_type": "text"
      },
      "source": [
        "<a href=\"https://colab.research.google.com/github/janosepah/ML_Project/blob/master/Final_Project.ipynb\" target=\"_parent\"><img src=\"https://colab.research.google.com/assets/colab-badge.svg\" alt=\"Open In Colab\"/></a>"
      ]
    },
    {
      "cell_type": "markdown",
      "metadata": {
        "id": "esMNcSBFObXI",
        "colab_type": "text"
      },
      "source": [
        "#Predicting Electricity Supply and Demand\n",
        "Team Members (alphabetical order):\n",
        "-\tSamarah Azimpoor\n",
        "-\tSafoura Janosepah\n"
      ]
    },
    {
      "cell_type": "markdown",
      "metadata": {
        "id": "1g-NbjLROyI8",
        "colab_type": "text"
      },
      "source": [
        "# Power Data Source - IESO\n",
        "\n",
        "## Market Demand\n",
        "### Market Demand Definitions and Graphs\n",
        "The graph below plots values for both Total Market Demand and Ontario Demand.\n",
        "\n",
        "- **Total Market Demand** represents the total energy that was supplied from the IESO-Administered Market.\n",
        "\n",
        "The IESO calculates Total Market Demand by summing all output from generators registered in the Market plus all scheduled imports to the province. It is also equal to the sum of all load supplied from the Market plus exports from the province, plus all line losses incurred on the IESO-controlled grid.\n",
        "\n",
        "- **Ontario Demand** represents the total energy that was supplied from the IESO-Administered Market for the purpose of supplying load within Ontario.\n",
        "\n",
        "It is also equal to the sum of all loads within Ontario which is supplied from the Market, plus all line losses incurred on the IESO-controlled grid.\n"
      ]
    },
    {
      "cell_type": "markdown",
      "metadata": {
        "id": "rmfYEdh4NOpp",
        "colab_type": "text"
      },
      "source": [
        "**Importing Liblaries**"
      ]
    },
    {
      "cell_type": "code",
      "metadata": {
        "id": "vBJ3KP66OiDI",
        "colab_type": "code",
        "colab": {}
      },
      "source": [
        "import pandas as pd\n",
        "import numpy as np\n",
        "from datetime import datetime\n",
        "import matplotlib.pyplot as plt\n",
        "import seaborn as sns\n",
        "import os"
      ],
      "execution_count": 19,
      "outputs": []
    },
    {
      "cell_type": "code",
      "metadata": {
        "id": "BiMJpQHe8ijG",
        "colab_type": "code",
        "colab": {}
      },
      "source": [
        "# Set default plot styles\n",
        "plt.style.use('seaborn')\n",
        "plt.rcParams['figure.figsize'] = (16, 6)\n",
        "plt.rcParams['axes.titlesize'] = 20\n",
        "plt.rcParams['xtick.labelsize'] = 14\n",
        "plt.rcParams['ytick.labelsize'] = 14\n",
        "plt.rcParams['axes.labelsize'] = 14"
      ],
      "execution_count": 17,
      "outputs": []
    },
    {
      "cell_type": "markdown",
      "metadata": {
        "id": "cBBhYQ_RNr6s",
        "colab_type": "text"
      },
      "source": [
        "**Loading The Data**"
      ]
    },
    {
      "cell_type": "code",
      "metadata": {
        "id": "I4enbMzn0JW9",
        "colab_type": "code",
        "colab": {}
      },
      "source": [
        "# Load Data \n",
        "Data_Path = 'https://raw.githubusercontent.com/janosepah/ML_Project/master/Data/'\n",
        "# Demand\n",
        "Demand_2017 = pd.read_csv(Data_Path + 'PUB_Demand_2017.csv', parse_dates=['Date'])\n",
        "Demand_2017.set_index(['Date'], inplace=True)\n",
        "Demand_2017.head()\n",
        "Demand_2017.shape\n",
        "\n",
        "Demand_2018 = pd.read_csv(Data_Path + 'PUB_Demand_2018.csv', parse_dates=['Date'])\n",
        "Demand_2018.set_index(['Date'], inplace=True)\n",
        "Demand_2018.head()\n",
        "Demand_2018.shape\n",
        "\n",
        "Demand_2019 = pd.read_csv(Data_Path + 'PUB_Demand_2019.csv', parse_dates=['Date'])\n",
        "Demand_2019.set_index(['Date'], inplace=True)\n",
        "Demand_2019.head()\n",
        "Demand_2019.shape\n",
        "\n",
        "\n",
        "# Supply\n",
        "Supply_2017 = pd.read_csv(Data_Path + '2017_Hourly_Output.csv', parse_dates=['Date'])\n",
        "Supply_2017.set_index(['Date'], inplace=True)\n",
        "Supply_2017.head()\n",
        "Supply_2017.shape\n",
        "\n",
        "Supply_2018 = pd.read_csv(Data_Path + '2018_Hourly_Output.csv', parse_dates=['Date'])\n",
        "Supply_2018.set_index(['Date'], inplace=True)\n",
        "Supply_2018.head()\n",
        "Supply_2018.shape\n",
        "\n",
        "Supply_2019 = pd.read_csv(Data_Path + '2019_Hourly_Output.csv', parse_dates=['Date'])\n",
        "Supply_2019.set_index(['Date'], inplace=True)\n",
        "Supply_2019.head()\n",
        "Supply_2019.shape\n",
        "\n"
      ],
      "execution_count": null,
      "outputs": []
    },
    {
      "cell_type": "markdown",
      "metadata": {
        "id": "UohWEjTGN3lB",
        "colab_type": "text"
      },
      "source": [
        "**Exploratory Analysis**\n",
        "Since the frequency currently is in the hourly level, this will make it difficult to visualise. So we will resample it and aggregate it to a daily/weekly and monthly level."
      ]
    },
    {
      "cell_type": "code",
      "metadata": {
        "id": "AOcyYpix-ihy",
        "colab_type": "code",
        "colab": {}
      },
      "source": [
        "hourly_data = Demand['Ontario Demand'].resample('MS').mean().bfill()\n",
        "plt.plot(Demand['Ontario Demand'], label='Ontario Demand')\n",
        "#plt.plot(Demand_norm, label='Market Demand')\n",
        "plt.ylabel('Normalized Electricity Demand')\n",
        "plt.legend();"
      ],
      "execution_count": null,
      "outputs": []
    },
    {
      "cell_type": "code",
      "metadata": {
        "id": "_8mWKUnh2U4w",
        "colab_type": "code",
        "colab": {}
      },
      "source": [
        "daily_data = Demand.resample(rule='D').sum()\n",
        "daily_data = daily_data.asfreq('D')\n",
        "daily_data.head(10)\n",
        "daily_data['Ontario Demand'].plot();"
      ],
      "execution_count": null,
      "outputs": []
    },
    {
      "cell_type": "code",
      "metadata": {
        "id": "owjM4FBC_npC",
        "colab_type": "code",
        "colab": {}
      },
      "source": [
        "weekly_data = Demand.resample(rule='W').sum()\n",
        "weekly_data = weekly_data.asfreq('W')\n",
        "weekly_data['Ontario Demand'].plot();"
      ],
      "execution_count": null,
      "outputs": []
    },
    {
      "cell_type": "code",
      "metadata": {
        "id": "Lo62ku6D8Fvg",
        "colab_type": "code",
        "colab": {}
      },
      "source": [
        "#Now there's a tail end where it's not a full day, so it's dropping off.\n",
        "\n",
        "#For our purposes, we will just delete that part day.\n",
        "\n",
        "daily_data = daily_data.drop([daily_data.index.min(), daily_data.index.max()])"
      ],
      "execution_count": null,
      "outputs": []
    },
    {
      "cell_type": "markdown",
      "metadata": {
        "id": "IFXtpzGQOrQi",
        "colab_type": "text"
      },
      "source": [
        "**Data Visualisation**\n",
        "We can see the pattern in data- electricity usage seem to be very seasonal and repetitive. This makes sense, it migh be due to weather patterns,  holidays, weekends etc.\n",
        "Furthermore, you can see the trend of the data seems to be trailing upwards in the last few years."
      ]
    },
    {
      "cell_type": "code",
      "metadata": {
        "id": "Km2kSKMV8Lmm",
        "colab_type": "code",
        "colab": {}
      },
      "source": [
        "from statsmodels.tsa.seasonal import seasonal_decompose\n",
        "from matplotlib.dates import DateFormatter"
      ],
      "execution_count": null,
      "outputs": []
    },
    {
      "cell_type": "markdown",
      "metadata": {
        "id": "4-awe11cOvOh",
        "colab_type": "text"
      },
      "source": [
        ""
      ]
    },
    {
      "cell_type": "code",
      "metadata": {
        "id": "i_bRaXNO8ObV",
        "colab_type": "code",
        "colab": {}
      },
      "source": [
        "weekly_data = Ontario_Demand.resample(rule='W').sum()\n",
        "decomposition = seasonal_decompose(weekly_data, model='additive') # Aggregate to weekly level\n",
        "\n",
        "fig = decomposition.plot()\n",
        "plt.show()"
      ],
      "execution_count": null,
      "outputs": []
    }
  ]
}