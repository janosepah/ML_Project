{
  "nbformat": 4,
  "nbformat_minor": 0,
  "metadata": {
    "colab": {
      "name": "Final Project.ipynb",
      "provenance": [],
      "collapsed_sections": [],
      "authorship_tag": "ABX9TyORlxBNfmieg0SoPFA1blF5",
      "include_colab_link": true
    },
    "kernelspec": {
      "name": "python3",
      "display_name": "Python 3"
    }
  },
  "cells": [
    {
      "cell_type": "markdown",
      "metadata": {
        "id": "view-in-github",
        "colab_type": "text"
      },
      "source": [
        "<a href=\"https://colab.research.google.com/github/janosepah/ML_Project/blob/master/Final_Project.ipynb\" target=\"_parent\"><img src=\"https://colab.research.google.com/assets/colab-badge.svg\" alt=\"Open In Colab\"/></a>"
      ]
    },
    {
      "cell_type": "markdown",
      "metadata": {
        "id": "esMNcSBFObXI",
        "colab_type": "text"
      },
      "source": [
        "#Predicting Electricity Supply and Demand\n",
        "Team Members (alphabetical order):\n",
        "-\tSamarah Azimpoor\n",
        "-\tSafoura Janosepah\n"
      ]
    },
    {
      "cell_type": "markdown",
      "metadata": {
        "id": "1g-NbjLROyI8",
        "colab_type": "text"
      },
      "source": [
        "# Power Data Source - IESO\n",
        "\n",
        "## Market Demand\n",
        "### Market Demand Definitions and Graphs\n",
        "The graph below plots values for both Total Market Demand and Ontario Demand.\n",
        "\n",
        "- **Total Market Demand** represents the total energy that was supplied from the IESO-Administered Market.\n",
        "\n",
        "The IESO calculates Total Market Demand by summing all output from generators registered in the Market plus all scheduled imports to the province. It is also equal to the sum of all load supplied from the Market plus exports from the province, plus all line losses incurred on the IESO-controlled grid.\n",
        "\n",
        "- **Ontario Demand** represents the total energy that was supplied from the IESO-Administered Market for the purpose of supplying load within Ontario.\n",
        "\n",
        "It is also equal to the sum of all loads within Ontario which is supplied from the Market, plus all line losses incurred on the IESO-controlled grid.\n"
      ]
    },
    {
      "cell_type": "code",
      "metadata": {
        "id": "vBJ3KP66OiDI",
        "colab_type": "code",
        "colab": {}
      },
      "source": [
        "# Libraries:\n",
        "import pandas as pd\n",
        "import numpy as np\n",
        "from datetime import datetime\n",
        "import matplotlib.pyplot as plt\n",
        "import seaborn as sns\n",
        "import os\n"
      ],
      "execution_count": 7,
      "outputs": []
    },
    {
      "cell_type": "code",
      "metadata": {
        "id": "I4enbMzn0JW9",
        "colab_type": "code",
        "colab": {}
      },
      "source": [
        "# Load Data \n",
        "Data_Path = 'https://raw.githubusercontent.com/janosepah/ML_Project/master/Data/'\n"
      ],
      "execution_count": 13,
      "outputs": []
    },
    {
      "cell_type": "code",
      "metadata": {
        "id": "LC4oDpI62SpY",
        "colab_type": "code",
        "colab": {
          "base_uri": "https://localhost:8080/",
          "height": 235
        },
        "outputId": "4c13e23c-ff73-4230-c6cf-bb77be2f9489"
      },
      "source": [
        "Ontario_Demand = pd.read_csv(Data_Path + 'PUB_Demand_2017.csv', parse_dates=['Date'])\n",
        "Ontario_Demand.set_index(['Date'], inplace=True)\n",
        "Ontario_Demand.head()"
      ],
      "execution_count": 20,
      "outputs": [
        {
          "output_type": "execute_result",
          "data": {
            "text/html": [
              "<div>\n",
              "<style scoped>\n",
              "    .dataframe tbody tr th:only-of-type {\n",
              "        vertical-align: middle;\n",
              "    }\n",
              "\n",
              "    .dataframe tbody tr th {\n",
              "        vertical-align: top;\n",
              "    }\n",
              "\n",
              "    .dataframe thead th {\n",
              "        text-align: right;\n",
              "    }\n",
              "</style>\n",
              "<table border=\"1\" class=\"dataframe\">\n",
              "  <thead>\n",
              "    <tr style=\"text-align: right;\">\n",
              "      <th></th>\n",
              "      <th>Hour</th>\n",
              "      <th>Market Demand</th>\n",
              "      <th>Ontario Demand</th>\n",
              "    </tr>\n",
              "    <tr>\n",
              "      <th>Date</th>\n",
              "      <th></th>\n",
              "      <th></th>\n",
              "      <th></th>\n",
              "    </tr>\n",
              "  </thead>\n",
              "  <tbody>\n",
              "    <tr>\n",
              "      <th>2017-01-01</th>\n",
              "      <td>1</td>\n",
              "      <td>17172</td>\n",
              "      <td>13522</td>\n",
              "    </tr>\n",
              "    <tr>\n",
              "      <th>2017-01-01</th>\n",
              "      <td>2</td>\n",
              "      <td>16757</td>\n",
              "      <td>13117</td>\n",
              "    </tr>\n",
              "    <tr>\n",
              "      <th>2017-01-01</th>\n",
              "      <td>3</td>\n",
              "      <td>16370</td>\n",
              "      <td>12816</td>\n",
              "    </tr>\n",
              "    <tr>\n",
              "      <th>2017-01-01</th>\n",
              "      <td>4</td>\n",
              "      <td>16075</td>\n",
              "      <td>12605</td>\n",
              "    </tr>\n",
              "    <tr>\n",
              "      <th>2017-01-01</th>\n",
              "      <td>5</td>\n",
              "      <td>16050</td>\n",
              "      <td>12563</td>\n",
              "    </tr>\n",
              "  </tbody>\n",
              "</table>\n",
              "</div>"
            ],
            "text/plain": [
              "            Hour  Market Demand  Ontario Demand\n",
              "Date                                           \n",
              "2017-01-01     1          17172           13522\n",
              "2017-01-01     2          16757           13117\n",
              "2017-01-01     3          16370           12816\n",
              "2017-01-01     4          16075           12605\n",
              "2017-01-01     5          16050           12563"
            ]
          },
          "metadata": {
            "tags": []
          },
          "execution_count": 20
        }
      ]
    },
    {
      "cell_type": "code",
      "metadata": {
        "id": "f0AgjgkS2UGf",
        "colab_type": "code",
        "colab": {
          "base_uri": "https://localhost:8080/",
          "height": 34
        },
        "outputId": "8ea519a0-c85d-47f5-fd53-ee21fd494afc"
      },
      "source": [
        "Ontario_Demand.shape"
      ],
      "execution_count": 21,
      "outputs": [
        {
          "output_type": "execute_result",
          "data": {
            "text/plain": [
              "(8760, 3)"
            ]
          },
          "metadata": {
            "tags": []
          },
          "execution_count": 21
        }
      ]
    },
    {
      "cell_type": "code",
      "metadata": {
        "id": "_8mWKUnh2U4w",
        "colab_type": "code",
        "colab": {}
      },
      "source": [
        ""
      ],
      "execution_count": null,
      "outputs": []
    }
  ]
}